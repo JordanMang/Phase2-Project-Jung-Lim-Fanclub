{
 "cells": [
  {
   "cell_type": "markdown",
   "metadata": {},
   "source": [
    "# Introduction"
   ]
  },
  {
   "cell_type": "markdown",
   "metadata": {},
   "source": [
    "We are creating a model that can help a real estate company predict at what price they should sell a listing for!\n",
    "\n",
    "In the first half of this notebook is a quick exploration of the dataframe we have found on the sales of Kind County Houses."
   ]
  },
  {
   "cell_type": "code",
   "execution_count": 1,
   "metadata": {},
   "outputs": [],
   "source": [
    "import numpy as np\n",
    "import scipy as sp\n",
    "import pandas as pd\n",
    "import scipy.stats as stats\n",
    "import seaborn as sns\n",
    "import matplotlib.pyplot as plt\n",
    "import math"
   ]
  },
  {
   "cell_type": "code",
   "execution_count": 2,
   "metadata": {},
   "outputs": [],
   "source": [
    "df = pd.read_csv('./data/kc_house_data.csv')"
   ]
  },
  {
   "cell_type": "code",
   "execution_count": 3,
   "metadata": {},
   "outputs": [
    {
     "data": {
      "text/html": [
       "<div>\n",
       "<style scoped>\n",
       "    .dataframe tbody tr th:only-of-type {\n",
       "        vertical-align: middle;\n",
       "    }\n",
       "\n",
       "    .dataframe tbody tr th {\n",
       "        vertical-align: top;\n",
       "    }\n",
       "\n",
       "    .dataframe thead th {\n",
       "        text-align: right;\n",
       "    }\n",
       "</style>\n",
       "<table border=\"1\" class=\"dataframe\">\n",
       "  <thead>\n",
       "    <tr style=\"text-align: right;\">\n",
       "      <th></th>\n",
       "      <th>id</th>\n",
       "      <th>date</th>\n",
       "      <th>price</th>\n",
       "      <th>bedrooms</th>\n",
       "      <th>bathrooms</th>\n",
       "      <th>sqft_living</th>\n",
       "      <th>sqft_lot</th>\n",
       "      <th>floors</th>\n",
       "      <th>waterfront</th>\n",
       "      <th>greenbelt</th>\n",
       "      <th>...</th>\n",
       "      <th>sewer_system</th>\n",
       "      <th>sqft_above</th>\n",
       "      <th>sqft_basement</th>\n",
       "      <th>sqft_garage</th>\n",
       "      <th>sqft_patio</th>\n",
       "      <th>yr_built</th>\n",
       "      <th>yr_renovated</th>\n",
       "      <th>address</th>\n",
       "      <th>lat</th>\n",
       "      <th>long</th>\n",
       "    </tr>\n",
       "  </thead>\n",
       "  <tbody>\n",
       "    <tr>\n",
       "      <th>0</th>\n",
       "      <td>7399300360</td>\n",
       "      <td>5/24/2022</td>\n",
       "      <td>675000</td>\n",
       "      <td>4</td>\n",
       "      <td>1.0</td>\n",
       "      <td>1180</td>\n",
       "      <td>7140</td>\n",
       "      <td>1.0</td>\n",
       "      <td>NO</td>\n",
       "      <td>NO</td>\n",
       "      <td>...</td>\n",
       "      <td>PUBLIC</td>\n",
       "      <td>1180</td>\n",
       "      <td>0</td>\n",
       "      <td>0</td>\n",
       "      <td>40</td>\n",
       "      <td>1969</td>\n",
       "      <td>0</td>\n",
       "      <td>2102 Southeast 21st Court, Renton, Washington ...</td>\n",
       "      <td>47.461975</td>\n",
       "      <td>-122.19052</td>\n",
       "    </tr>\n",
       "    <tr>\n",
       "      <th>1</th>\n",
       "      <td>8910500230</td>\n",
       "      <td>12/13/2021</td>\n",
       "      <td>920000</td>\n",
       "      <td>5</td>\n",
       "      <td>2.5</td>\n",
       "      <td>2770</td>\n",
       "      <td>6703</td>\n",
       "      <td>1.0</td>\n",
       "      <td>NO</td>\n",
       "      <td>NO</td>\n",
       "      <td>...</td>\n",
       "      <td>PUBLIC</td>\n",
       "      <td>1570</td>\n",
       "      <td>1570</td>\n",
       "      <td>0</td>\n",
       "      <td>240</td>\n",
       "      <td>1950</td>\n",
       "      <td>0</td>\n",
       "      <td>11231 Greenwood Avenue North, Seattle, Washing...</td>\n",
       "      <td>47.711525</td>\n",
       "      <td>-122.35591</td>\n",
       "    </tr>\n",
       "    <tr>\n",
       "      <th>2</th>\n",
       "      <td>1180000275</td>\n",
       "      <td>9/29/2021</td>\n",
       "      <td>311000</td>\n",
       "      <td>6</td>\n",
       "      <td>2.0</td>\n",
       "      <td>2880</td>\n",
       "      <td>6156</td>\n",
       "      <td>1.0</td>\n",
       "      <td>NO</td>\n",
       "      <td>NO</td>\n",
       "      <td>...</td>\n",
       "      <td>PUBLIC</td>\n",
       "      <td>1580</td>\n",
       "      <td>1580</td>\n",
       "      <td>0</td>\n",
       "      <td>0</td>\n",
       "      <td>1956</td>\n",
       "      <td>0</td>\n",
       "      <td>8504 South 113th Street, Seattle, Washington 9...</td>\n",
       "      <td>47.502045</td>\n",
       "      <td>-122.22520</td>\n",
       "    </tr>\n",
       "    <tr>\n",
       "      <th>3</th>\n",
       "      <td>1604601802</td>\n",
       "      <td>12/14/2021</td>\n",
       "      <td>775000</td>\n",
       "      <td>3</td>\n",
       "      <td>3.0</td>\n",
       "      <td>2160</td>\n",
       "      <td>1400</td>\n",
       "      <td>2.0</td>\n",
       "      <td>NO</td>\n",
       "      <td>NO</td>\n",
       "      <td>...</td>\n",
       "      <td>PUBLIC</td>\n",
       "      <td>1090</td>\n",
       "      <td>1070</td>\n",
       "      <td>200</td>\n",
       "      <td>270</td>\n",
       "      <td>2010</td>\n",
       "      <td>0</td>\n",
       "      <td>4079 Letitia Avenue South, Seattle, Washington...</td>\n",
       "      <td>47.566110</td>\n",
       "      <td>-122.29020</td>\n",
       "    </tr>\n",
       "    <tr>\n",
       "      <th>4</th>\n",
       "      <td>8562780790</td>\n",
       "      <td>8/24/2021</td>\n",
       "      <td>592500</td>\n",
       "      <td>2</td>\n",
       "      <td>2.0</td>\n",
       "      <td>1120</td>\n",
       "      <td>758</td>\n",
       "      <td>2.0</td>\n",
       "      <td>NO</td>\n",
       "      <td>NO</td>\n",
       "      <td>...</td>\n",
       "      <td>PUBLIC</td>\n",
       "      <td>1120</td>\n",
       "      <td>550</td>\n",
       "      <td>550</td>\n",
       "      <td>30</td>\n",
       "      <td>2012</td>\n",
       "      <td>0</td>\n",
       "      <td>2193 Northwest Talus Drive, Issaquah, Washingt...</td>\n",
       "      <td>47.532470</td>\n",
       "      <td>-122.07188</td>\n",
       "    </tr>\n",
       "  </tbody>\n",
       "</table>\n",
       "<p>5 rows × 25 columns</p>\n",
       "</div>"
      ],
      "text/plain": [
       "           id        date   price  bedrooms  bathrooms  sqft_living  sqft_lot  \\\n",
       "0  7399300360   5/24/2022  675000         4        1.0         1180      7140   \n",
       "1  8910500230  12/13/2021  920000         5        2.5         2770      6703   \n",
       "2  1180000275   9/29/2021  311000         6        2.0         2880      6156   \n",
       "3  1604601802  12/14/2021  775000         3        3.0         2160      1400   \n",
       "4  8562780790   8/24/2021  592500         2        2.0         1120       758   \n",
       "\n",
       "   floors waterfront greenbelt  ... sewer_system sqft_above sqft_basement  \\\n",
       "0     1.0         NO        NO  ...       PUBLIC       1180             0   \n",
       "1     1.0         NO        NO  ...       PUBLIC       1570          1570   \n",
       "2     1.0         NO        NO  ...       PUBLIC       1580          1580   \n",
       "3     2.0         NO        NO  ...       PUBLIC       1090          1070   \n",
       "4     2.0         NO        NO  ...       PUBLIC       1120           550   \n",
       "\n",
       "  sqft_garage sqft_patio yr_built  yr_renovated  \\\n",
       "0           0         40     1969             0   \n",
       "1           0        240     1950             0   \n",
       "2           0          0     1956             0   \n",
       "3         200        270     2010             0   \n",
       "4         550         30     2012             0   \n",
       "\n",
       "                                             address        lat       long  \n",
       "0  2102 Southeast 21st Court, Renton, Washington ...  47.461975 -122.19052  \n",
       "1  11231 Greenwood Avenue North, Seattle, Washing...  47.711525 -122.35591  \n",
       "2  8504 South 113th Street, Seattle, Washington 9...  47.502045 -122.22520  \n",
       "3  4079 Letitia Avenue South, Seattle, Washington...  47.566110 -122.29020  \n",
       "4  2193 Northwest Talus Drive, Issaquah, Washingt...  47.532470 -122.07188  \n",
       "\n",
       "[5 rows x 25 columns]"
      ]
     },
     "execution_count": 3,
     "metadata": {},
     "output_type": "execute_result"
    }
   ],
   "source": [
    "df.head()"
   ]
  },
  {
   "cell_type": "code",
   "execution_count": 4,
   "metadata": {},
   "outputs": [
    {
     "data": {
      "text/plain": [
       "Index(['id', 'date', 'price', 'bedrooms', 'bathrooms', 'sqft_living',\n",
       "       'sqft_lot', 'floors', 'waterfront', 'greenbelt', 'nuisance', 'view',\n",
       "       'condition', 'grade', 'heat_source', 'sewer_system', 'sqft_above',\n",
       "       'sqft_basement', 'sqft_garage', 'sqft_patio', 'yr_built',\n",
       "       'yr_renovated', 'address', 'lat', 'long'],\n",
       "      dtype='object')"
      ]
     },
     "execution_count": 4,
     "metadata": {},
     "output_type": "execute_result"
    }
   ],
   "source": [
    "df.columns"
   ]
  },
  {
   "cell_type": "code",
   "execution_count": 5,
   "metadata": {},
   "outputs": [
    {
     "name": "stdout",
     "output_type": "stream",
     "text": [
      "<class 'pandas.core.frame.DataFrame'>\n",
      "RangeIndex: 30155 entries, 0 to 30154\n",
      "Data columns (total 25 columns):\n",
      " #   Column         Non-Null Count  Dtype  \n",
      "---  ------         --------------  -----  \n",
      " 0   id             30155 non-null  int64  \n",
      " 1   date           30155 non-null  object \n",
      " 2   price          30155 non-null  int64  \n",
      " 3   bedrooms       30155 non-null  int64  \n",
      " 4   bathrooms      30155 non-null  float64\n",
      " 5   sqft_living    30155 non-null  int64  \n",
      " 6   sqft_lot       30155 non-null  int64  \n",
      " 7   floors         30155 non-null  float64\n",
      " 8   waterfront     30155 non-null  object \n",
      " 9   greenbelt      30155 non-null  object \n",
      " 10  nuisance       30155 non-null  object \n",
      " 11  view           30155 non-null  object \n",
      " 12  condition      30155 non-null  object \n",
      " 13  grade          30155 non-null  object \n",
      " 14  heat_source    30123 non-null  object \n",
      " 15  sewer_system   30141 non-null  object \n",
      " 16  sqft_above     30155 non-null  int64  \n",
      " 17  sqft_basement  30155 non-null  int64  \n",
      " 18  sqft_garage    30155 non-null  int64  \n",
      " 19  sqft_patio     30155 non-null  int64  \n",
      " 20  yr_built       30155 non-null  int64  \n",
      " 21  yr_renovated   30155 non-null  int64  \n",
      " 22  address        30155 non-null  object \n",
      " 23  lat            30155 non-null  float64\n",
      " 24  long           30155 non-null  float64\n",
      "dtypes: float64(4), int64(11), object(10)\n",
      "memory usage: 5.8+ MB\n"
     ]
    }
   ],
   "source": [
    "df.info()"
   ]
  },
  {
   "cell_type": "markdown",
   "metadata": {},
   "source": [
    "It seems that there are 3 columns that have incomplete values, those being waterfront, view and yr_renovated."
   ]
  },
  {
   "cell_type": "markdown",
   "metadata": {},
   "source": [
    "# Addressing the Nan Values in 'Waterfront'"
   ]
  },
  {
   "cell_type": "markdown",
   "metadata": {},
   "source": [
    "We would like to be able to include the information in the waterfront feature but need to address the 2000+ Nan entries which will be difficult because finding that information with just a dataframe isn't a walk in the park."
   ]
  },
  {
   "cell_type": "code",
   "execution_count": 6,
   "metadata": {},
   "outputs": [
    {
     "data": {
      "text/plain": [
       "NO     29636\n",
       "YES      519\n",
       "Name: waterfront, dtype: int64"
      ]
     },
     "execution_count": 6,
     "metadata": {},
     "output_type": "execute_result"
    }
   ],
   "source": [
    "df.waterfront.value_counts()"
   ]
  },
  {
   "cell_type": "code",
   "execution_count": 7,
   "metadata": {},
   "outputs": [],
   "source": [
    "nanwater = df.loc[df['waterfront'].isnull()]"
   ]
  },
  {
   "cell_type": "code",
   "execution_count": 8,
   "metadata": {},
   "outputs": [],
   "source": [
    "nanwater.to_csv('nanwater.csv')"
   ]
  },
  {
   "cell_type": "code",
   "execution_count": 9,
   "metadata": {},
   "outputs": [
    {
     "data": {
      "image/png": "[encoded data removed]",
      "text/plain": [
       "<Figure size 1080x1080 with 1 Axes>"
      ]
     },
     "metadata": {
      "needs_background": "light"
     },
     "output_type": "display_data"
    }
   ],
   "source": [
    "fig = plt.subplots(figsize = (15,15))\n",
    "plt.scatter(df['long'], df['lat']);"
   ]
  },
  {
   "cell_type": "markdown",
   "metadata": {},
   "source": [
    "After vizualizing this data in Tabelau I was able to come to the conclusion that the Nan values in waterfront were not set as Nan values because they were not waterfront as previously thought. The addresses listed are a mixture of waterfront and non-waterfront which leads me to wanting to remove the rows with Nan values. With a little bit of Tableau magic I was able to locate the 79 entries of homes that were waterfront but marked as NAN."
   ]
  },
  {
   "cell_type": "markdown",
   "metadata": {},
   "source": [
    "# Corrolation Heatmap"
   ]
  },
  {
   "cell_type": "markdown",
   "metadata": {},
   "source": [
    "Im going to take a quick aside before addressing the NaN values in waterfront to look at a corrolation heatmap in hopes of getting a better understanding of what relations these columns have with eachother."
   ]
  },
  {
   "cell_type": "code",
   "execution_count": 10,
   "metadata": {},
   "outputs": [],
   "source": [
    "clean_df = df.copy(deep=True)"
   ]
  },
  {
   "cell_type": "code",
   "execution_count": 11,
   "metadata": {},
   "outputs": [
    {
     "data": {
      "text/html": [
       "<div>\n",
       "<style scoped>\n",
       "    .dataframe tbody tr th:only-of-type {\n",
       "        vertical-align: middle;\n",
       "    }\n",
       "\n",
       "    .dataframe tbody tr th {\n",
       "        vertical-align: top;\n",
       "    }\n",
       "\n",
       "    .dataframe thead th {\n",
       "        text-align: right;\n",
       "    }\n",
       "</style>\n",
       "<table border=\"1\" class=\"dataframe\">\n",
       "  <thead>\n",
       "    <tr style=\"text-align: right;\">\n",
       "      <th></th>\n",
       "      <th>id</th>\n",
       "      <th>date</th>\n",
       "      <th>price</th>\n",
       "      <th>bedrooms</th>\n",
       "      <th>bathrooms</th>\n",
       "      <th>sqft_living</th>\n",
       "      <th>sqft_lot</th>\n",
       "      <th>floors</th>\n",
       "      <th>waterfront</th>\n",
       "      <th>greenbelt</th>\n",
       "      <th>...</th>\n",
       "      <th>sewer_system</th>\n",
       "      <th>sqft_above</th>\n",
       "      <th>sqft_basement</th>\n",
       "      <th>sqft_garage</th>\n",
       "      <th>sqft_patio</th>\n",
       "      <th>yr_built</th>\n",
       "      <th>yr_renovated</th>\n",
       "      <th>address</th>\n",
       "      <th>lat</th>\n",
       "      <th>long</th>\n",
       "    </tr>\n",
       "  </thead>\n",
       "  <tbody>\n",
       "    <tr>\n",
       "      <th>0</th>\n",
       "      <td>7399300360</td>\n",
       "      <td>5/24/2022</td>\n",
       "      <td>675000</td>\n",
       "      <td>4</td>\n",
       "      <td>1.0</td>\n",
       "      <td>1180</td>\n",
       "      <td>7140</td>\n",
       "      <td>1.0</td>\n",
       "      <td>NO</td>\n",
       "      <td>NO</td>\n",
       "      <td>...</td>\n",
       "      <td>PUBLIC</td>\n",
       "      <td>1180</td>\n",
       "      <td>0</td>\n",
       "      <td>0</td>\n",
       "      <td>40</td>\n",
       "      <td>1969</td>\n",
       "      <td>0</td>\n",
       "      <td>2102 Southeast 21st Court, Renton, Washington ...</td>\n",
       "      <td>47.461975</td>\n",
       "      <td>-122.19052</td>\n",
       "    </tr>\n",
       "    <tr>\n",
       "      <th>1</th>\n",
       "      <td>8910500230</td>\n",
       "      <td>12/13/2021</td>\n",
       "      <td>920000</td>\n",
       "      <td>5</td>\n",
       "      <td>2.5</td>\n",
       "      <td>2770</td>\n",
       "      <td>6703</td>\n",
       "      <td>1.0</td>\n",
       "      <td>NO</td>\n",
       "      <td>NO</td>\n",
       "      <td>...</td>\n",
       "      <td>PUBLIC</td>\n",
       "      <td>1570</td>\n",
       "      <td>1570</td>\n",
       "      <td>0</td>\n",
       "      <td>240</td>\n",
       "      <td>1950</td>\n",
       "      <td>0</td>\n",
       "      <td>11231 Greenwood Avenue North, Seattle, Washing...</td>\n",
       "      <td>47.711525</td>\n",
       "      <td>-122.35591</td>\n",
       "    </tr>\n",
       "    <tr>\n",
       "      <th>2</th>\n",
       "      <td>1180000275</td>\n",
       "      <td>9/29/2021</td>\n",
       "      <td>311000</td>\n",
       "      <td>6</td>\n",
       "      <td>2.0</td>\n",
       "      <td>2880</td>\n",
       "      <td>6156</td>\n",
       "      <td>1.0</td>\n",
       "      <td>NO</td>\n",
       "      <td>NO</td>\n",
       "      <td>...</td>\n",
       "      <td>PUBLIC</td>\n",
       "      <td>1580</td>\n",
       "      <td>1580</td>\n",
       "      <td>0</td>\n",
       "      <td>0</td>\n",
       "      <td>1956</td>\n",
       "      <td>0</td>\n",
       "      <td>8504 South 113th Street, Seattle, Washington 9...</td>\n",
       "      <td>47.502045</td>\n",
       "      <td>-122.22520</td>\n",
       "    </tr>\n",
       "    <tr>\n",
       "      <th>3</th>\n",
       "      <td>1604601802</td>\n",
       "      <td>12/14/2021</td>\n",
       "      <td>775000</td>\n",
       "      <td>3</td>\n",
       "      <td>3.0</td>\n",
       "      <td>2160</td>\n",
       "      <td>1400</td>\n",
       "      <td>2.0</td>\n",
       "      <td>NO</td>\n",
       "      <td>NO</td>\n",
       "      <td>...</td>\n",
       "      <td>PUBLIC</td>\n",
       "      <td>1090</td>\n",
       "      <td>1070</td>\n",
       "      <td>200</td>\n",
       "      <td>270</td>\n",
       "      <td>2010</td>\n",
       "      <td>0</td>\n",
       "      <td>4079 Letitia Avenue South, Seattle, Washington...</td>\n",
       "      <td>47.566110</td>\n",
       "      <td>-122.29020</td>\n",
       "    </tr>\n",
       "    <tr>\n",
       "      <th>4</th>\n",
       "      <td>8562780790</td>\n",
       "      <td>8/24/2021</td>\n",
       "      <td>592500</td>\n",
       "      <td>2</td>\n",
       "      <td>2.0</td>\n",
       "      <td>1120</td>\n",
       "      <td>758</td>\n",
       "      <td>2.0</td>\n",
       "      <td>NO</td>\n",
       "      <td>NO</td>\n",
       "      <td>...</td>\n",
       "      <td>PUBLIC</td>\n",
       "      <td>1120</td>\n",
       "      <td>550</td>\n",
       "      <td>550</td>\n",
       "      <td>30</td>\n",
       "      <td>2012</td>\n",
       "      <td>0</td>\n",
       "      <td>2193 Northwest Talus Drive, Issaquah, Washingt...</td>\n",
       "      <td>47.532470</td>\n",
       "      <td>-122.07188</td>\n",
       "    </tr>\n",
       "  </tbody>\n",
       "</table>\n",
       "<p>5 rows × 25 columns</p>\n",
       "</div>"
      ],
      "text/plain": [
       "           id        date   price  bedrooms  bathrooms  sqft_living  sqft_lot  \\\n",
       "0  7399300360   5/24/2022  675000         4        1.0         1180      7140   \n",
       "1  8910500230  12/13/2021  920000         5        2.5         2770      6703   \n",
       "2  1180000275   9/29/2021  311000         6        2.0         2880      6156   \n",
       "3  1604601802  12/14/2021  775000         3        3.0         2160      1400   \n",
       "4  8562780790   8/24/2021  592500         2        2.0         1120       758   \n",
       "\n",
       "   floors waterfront greenbelt  ... sewer_system sqft_above sqft_basement  \\\n",
       "0     1.0         NO        NO  ...       PUBLIC       1180             0   \n",
       "1     1.0         NO        NO  ...       PUBLIC       1570          1570   \n",
       "2     1.0         NO        NO  ...       PUBLIC       1580          1580   \n",
       "3     2.0         NO        NO  ...       PUBLIC       1090          1070   \n",
       "4     2.0         NO        NO  ...       PUBLIC       1120           550   \n",
       "\n",
       "  sqft_garage sqft_patio yr_built  yr_renovated  \\\n",
       "0           0         40     1969             0   \n",
       "1           0        240     1950             0   \n",
       "2           0          0     1956             0   \n",
       "3         200        270     2010             0   \n",
       "4         550         30     2012             0   \n",
       "\n",
       "                                             address        lat       long  \n",
       "0  2102 Southeast 21st Court, Renton, Washington ...  47.461975 -122.19052  \n",
       "1  11231 Greenwood Avenue North, Seattle, Washing...  47.711525 -122.35591  \n",
       "2  8504 South 113th Street, Seattle, Washington 9...  47.502045 -122.22520  \n",
       "3  4079 Letitia Avenue South, Seattle, Washington...  47.566110 -122.29020  \n",
       "4  2193 Northwest Talus Drive, Issaquah, Washingt...  47.532470 -122.07188  \n",
       "\n",
       "[5 rows x 25 columns]"
      ]
     },
     "execution_count": 11,
     "metadata": {},
     "output_type": "execute_result"
    }
   ],
   "source": [
    "clean_df.head()"
   ]
  },
  {
   "cell_type": "code",
   "execution_count": 12,
   "metadata": {},
   "outputs": [
    {
     "data": {
      "text/html": [
       "<div>\n",
       "<style scoped>\n",
       "    .dataframe tbody tr th:only-of-type {\n",
       "        vertical-align: middle;\n",
       "    }\n",
       "\n",
       "    .dataframe tbody tr th {\n",
       "        vertical-align: top;\n",
       "    }\n",
       "\n",
       "    .dataframe thead th {\n",
       "        text-align: right;\n",
       "    }\n",
       "</style>\n",
       "<table border=\"1\" class=\"dataframe\">\n",
       "  <thead>\n",
       "    <tr style=\"text-align: right;\">\n",
       "      <th></th>\n",
       "      <th>id</th>\n",
       "      <th>price</th>\n",
       "      <th>bedrooms</th>\n",
       "      <th>bathrooms</th>\n",
       "      <th>sqft_living</th>\n",
       "      <th>sqft_lot</th>\n",
       "      <th>floors</th>\n",
       "      <th>sqft_above</th>\n",
       "      <th>sqft_basement</th>\n",
       "      <th>sqft_garage</th>\n",
       "      <th>sqft_patio</th>\n",
       "      <th>yr_built</th>\n",
       "      <th>yr_renovated</th>\n",
       "      <th>lat</th>\n",
       "      <th>long</th>\n",
       "    </tr>\n",
       "  </thead>\n",
       "  <tbody>\n",
       "    <tr>\n",
       "      <th>id</th>\n",
       "      <td>1.000000</td>\n",
       "      <td>-0.034184</td>\n",
       "      <td>-0.006306</td>\n",
       "      <td>-0.012094</td>\n",
       "      <td>-0.027932</td>\n",
       "      <td>-0.119101</td>\n",
       "      <td>0.032043</td>\n",
       "      <td>-0.023216</td>\n",
       "      <td>-0.014662</td>\n",
       "      <td>-0.007829</td>\n",
       "      <td>-0.041625</td>\n",
       "      <td>0.023071</td>\n",
       "      <td>-0.029131</td>\n",
       "      <td>-0.000691</td>\n",
       "      <td>0.000479</td>\n",
       "    </tr>\n",
       "    <tr>\n",
       "      <th>price</th>\n",
       "      <td>-0.034184</td>\n",
       "      <td>1.000000</td>\n",
       "      <td>0.289204</td>\n",
       "      <td>0.480401</td>\n",
       "      <td>0.608521</td>\n",
       "      <td>0.085730</td>\n",
       "      <td>0.180576</td>\n",
       "      <td>0.538651</td>\n",
       "      <td>0.245058</td>\n",
       "      <td>0.264169</td>\n",
       "      <td>0.313409</td>\n",
       "      <td>0.096013</td>\n",
       "      <td>0.084786</td>\n",
       "      <td>0.063632</td>\n",
       "      <td>-0.022509</td>\n",
       "    </tr>\n",
       "    <tr>\n",
       "      <th>bedrooms</th>\n",
       "      <td>-0.006306</td>\n",
       "      <td>0.289204</td>\n",
       "      <td>1.000000</td>\n",
       "      <td>0.589273</td>\n",
       "      <td>0.637874</td>\n",
       "      <td>0.003306</td>\n",
       "      <td>0.147592</td>\n",
       "      <td>0.547164</td>\n",
       "      <td>0.238502</td>\n",
       "      <td>0.319441</td>\n",
       "      <td>0.183439</td>\n",
       "      <td>0.146191</td>\n",
       "      <td>0.014286</td>\n",
       "      <td>0.108758</td>\n",
       "      <td>-0.106689</td>\n",
       "    </tr>\n",
       "    <tr>\n",
       "      <th>bathrooms</th>\n",
       "      <td>-0.012094</td>\n",
       "      <td>0.480401</td>\n",
       "      <td>0.589273</td>\n",
       "      <td>1.000000</td>\n",
       "      <td>0.772677</td>\n",
       "      <td>0.035886</td>\n",
       "      <td>0.404412</td>\n",
       "      <td>0.674924</td>\n",
       "      <td>0.260902</td>\n",
       "      <td>0.457022</td>\n",
       "      <td>0.327551</td>\n",
       "      <td>0.443648</td>\n",
       "      <td>0.040631</td>\n",
       "      <td>-0.005225</td>\n",
       "      <td>0.017400</td>\n",
       "    </tr>\n",
       "    <tr>\n",
       "      <th>sqft_living</th>\n",
       "      <td>-0.027932</td>\n",
       "      <td>0.608521</td>\n",
       "      <td>0.637874</td>\n",
       "      <td>0.772677</td>\n",
       "      <td>1.000000</td>\n",
       "      <td>0.119563</td>\n",
       "      <td>0.304240</td>\n",
       "      <td>0.883984</td>\n",
       "      <td>0.338460</td>\n",
       "      <td>0.511740</td>\n",
       "      <td>0.396030</td>\n",
       "      <td>0.291694</td>\n",
       "      <td>0.038499</td>\n",
       "      <td>0.102186</td>\n",
       "      <td>-0.087669</td>\n",
       "    </tr>\n",
       "    <tr>\n",
       "      <th>sqft_lot</th>\n",
       "      <td>-0.119101</td>\n",
       "      <td>0.085730</td>\n",
       "      <td>0.003306</td>\n",
       "      <td>0.035886</td>\n",
       "      <td>0.119563</td>\n",
       "      <td>1.000000</td>\n",
       "      <td>-0.032097</td>\n",
       "      <td>0.129231</td>\n",
       "      <td>0.004111</td>\n",
       "      <td>0.087169</td>\n",
       "      <td>0.155250</td>\n",
       "      <td>0.001750</td>\n",
       "      <td>0.010049</td>\n",
       "      <td>0.030020</td>\n",
       "      <td>-0.034308</td>\n",
       "    </tr>\n",
       "    <tr>\n",
       "      <th>floors</th>\n",
       "      <td>0.032043</td>\n",
       "      <td>0.180576</td>\n",
       "      <td>0.147592</td>\n",
       "      <td>0.404412</td>\n",
       "      <td>0.304240</td>\n",
       "      <td>-0.032097</td>\n",
       "      <td>1.000000</td>\n",
       "      <td>0.448281</td>\n",
       "      <td>-0.248093</td>\n",
       "      <td>0.132656</td>\n",
       "      <td>0.125183</td>\n",
       "      <td>0.544646</td>\n",
       "      <td>-0.025449</td>\n",
       "      <td>-0.218554</td>\n",
       "      <td>0.233781</td>\n",
       "    </tr>\n",
       "    <tr>\n",
       "      <th>sqft_above</th>\n",
       "      <td>-0.023216</td>\n",
       "      <td>0.538651</td>\n",
       "      <td>0.547164</td>\n",
       "      <td>0.674924</td>\n",
       "      <td>0.883984</td>\n",
       "      <td>0.129231</td>\n",
       "      <td>0.448281</td>\n",
       "      <td>1.000000</td>\n",
       "      <td>-0.066801</td>\n",
       "      <td>0.560551</td>\n",
       "      <td>0.312117</td>\n",
       "      <td>0.387448</td>\n",
       "      <td>0.010598</td>\n",
       "      <td>0.092258</td>\n",
       "      <td>-0.082744</td>\n",
       "    </tr>\n",
       "    <tr>\n",
       "      <th>sqft_basement</th>\n",
       "      <td>-0.014662</td>\n",
       "      <td>0.245058</td>\n",
       "      <td>0.238502</td>\n",
       "      <td>0.260902</td>\n",
       "      <td>0.338460</td>\n",
       "      <td>0.004111</td>\n",
       "      <td>-0.248093</td>\n",
       "      <td>-0.066801</td>\n",
       "      <td>1.000000</td>\n",
       "      <td>0.026361</td>\n",
       "      <td>0.210500</td>\n",
       "      <td>-0.230226</td>\n",
       "      <td>0.053634</td>\n",
       "      <td>0.059788</td>\n",
       "      <td>-0.045208</td>\n",
       "    </tr>\n",
       "    <tr>\n",
       "      <th>sqft_garage</th>\n",
       "      <td>-0.007829</td>\n",
       "      <td>0.264169</td>\n",
       "      <td>0.319441</td>\n",
       "      <td>0.457022</td>\n",
       "      <td>0.511740</td>\n",
       "      <td>0.087169</td>\n",
       "      <td>0.132656</td>\n",
       "      <td>0.560551</td>\n",
       "      <td>0.026361</td>\n",
       "      <td>1.000000</td>\n",
       "      <td>0.216354</td>\n",
       "      <td>0.447560</td>\n",
       "      <td>-0.098603</td>\n",
       "      <td>0.092346</td>\n",
       "      <td>-0.096861</td>\n",
       "    </tr>\n",
       "    <tr>\n",
       "      <th>sqft_patio</th>\n",
       "      <td>-0.041625</td>\n",
       "      <td>0.313409</td>\n",
       "      <td>0.183439</td>\n",
       "      <td>0.327551</td>\n",
       "      <td>0.396030</td>\n",
       "      <td>0.155250</td>\n",
       "      <td>0.125183</td>\n",
       "      <td>0.312117</td>\n",
       "      <td>0.210500</td>\n",
       "      <td>0.216354</td>\n",
       "      <td>1.000000</td>\n",
       "      <td>0.138409</td>\n",
       "      <td>0.056385</td>\n",
       "      <td>-0.019724</td>\n",
       "      <td>0.025699</td>\n",
       "    </tr>\n",
       "    <tr>\n",
       "      <th>yr_built</th>\n",
       "      <td>0.023071</td>\n",
       "      <td>0.096013</td>\n",
       "      <td>0.146191</td>\n",
       "      <td>0.443648</td>\n",
       "      <td>0.291694</td>\n",
       "      <td>0.001750</td>\n",
       "      <td>0.544646</td>\n",
       "      <td>0.387448</td>\n",
       "      <td>-0.230226</td>\n",
       "      <td>0.447560</td>\n",
       "      <td>0.138409</td>\n",
       "      <td>1.000000</td>\n",
       "      <td>-0.239284</td>\n",
       "      <td>-0.207186</td>\n",
       "      <td>0.209878</td>\n",
       "    </tr>\n",
       "    <tr>\n",
       "      <th>yr_renovated</th>\n",
       "      <td>-0.029131</td>\n",
       "      <td>0.084786</td>\n",
       "      <td>0.014286</td>\n",
       "      <td>0.040631</td>\n",
       "      <td>0.038499</td>\n",
       "      <td>0.010049</td>\n",
       "      <td>-0.025449</td>\n",
       "      <td>0.010598</td>\n",
       "      <td>0.053634</td>\n",
       "      <td>-0.098603</td>\n",
       "      <td>0.056385</td>\n",
       "      <td>-0.239284</td>\n",
       "      <td>1.000000</td>\n",
       "      <td>0.036956</td>\n",
       "      <td>-0.035631</td>\n",
       "    </tr>\n",
       "    <tr>\n",
       "      <th>lat</th>\n",
       "      <td>-0.000691</td>\n",
       "      <td>0.063632</td>\n",
       "      <td>0.108758</td>\n",
       "      <td>-0.005225</td>\n",
       "      <td>0.102186</td>\n",
       "      <td>0.030020</td>\n",
       "      <td>-0.218554</td>\n",
       "      <td>0.092258</td>\n",
       "      <td>0.059788</td>\n",
       "      <td>0.092346</td>\n",
       "      <td>-0.019724</td>\n",
       "      <td>-0.207186</td>\n",
       "      <td>0.036956</td>\n",
       "      <td>1.000000</td>\n",
       "      <td>-0.760766</td>\n",
       "    </tr>\n",
       "    <tr>\n",
       "      <th>long</th>\n",
       "      <td>0.000479</td>\n",
       "      <td>-0.022509</td>\n",
       "      <td>-0.106689</td>\n",
       "      <td>0.017400</td>\n",
       "      <td>-0.087669</td>\n",
       "      <td>-0.034308</td>\n",
       "      <td>0.233781</td>\n",
       "      <td>-0.082744</td>\n",
       "      <td>-0.045208</td>\n",
       "      <td>-0.096861</td>\n",
       "      <td>0.025699</td>\n",
       "      <td>0.209878</td>\n",
       "      <td>-0.035631</td>\n",
       "      <td>-0.760766</td>\n",
       "      <td>1.000000</td>\n",
       "    </tr>\n",
       "  </tbody>\n",
       "</table>\n",
       "</div>"
      ],
      "text/plain": [
       "                     id     price  bedrooms  bathrooms  sqft_living  sqft_lot  \\\n",
       "id             1.000000 -0.034184 -0.006306  -0.012094    -0.027932 -0.119101   \n",
       "price         -0.034184  1.000000  0.289204   0.480401     0.608521  0.085730   \n",
       "bedrooms      -0.006306  0.289204  1.000000   0.589273     0.637874  0.003306   \n",
       "bathrooms     -0.012094  0.480401  0.589273   1.000000     0.772677  0.035886   \n",
       "sqft_living   -0.027932  0.608521  0.637874   0.772677     1.000000  0.119563   \n",
       "sqft_lot      -0.119101  0.085730  0.003306   0.035886     0.119563  1.000000   \n",
       "floors         0.032043  0.180576  0.147592   0.404412     0.304240 -0.032097   \n",
       "sqft_above    -0.023216  0.538651  0.547164   0.674924     0.883984  0.129231   \n",
       "sqft_basement -0.014662  0.245058  0.238502   0.260902     0.338460  0.004111   \n",
       "sqft_garage   -0.007829  0.264169  0.319441   0.457022     0.511740  0.087169   \n",
       "sqft_patio    -0.041625  0.313409  0.183439   0.327551     0.396030  0.155250   \n",
       "yr_built       0.023071  0.096013  0.146191   0.443648     0.291694  0.001750   \n",
       "yr_renovated  -0.029131  0.084786  0.014286   0.040631     0.038499  0.010049   \n",
       "lat           -0.000691  0.063632  0.108758  -0.005225     0.102186  0.030020   \n",
       "long           0.000479 -0.022509 -0.106689   0.017400    -0.087669 -0.034308   \n",
       "\n",
       "                 floors  sqft_above  sqft_basement  sqft_garage  sqft_patio  \\\n",
       "id             0.032043   -0.023216      -0.014662    -0.007829   -0.041625   \n",
       "price          0.180576    0.538651       0.245058     0.264169    0.313409   \n",
       "bedrooms       0.147592    0.547164       0.238502     0.319441    0.183439   \n",
       "bathrooms      0.404412    0.674924       0.260902     0.457022    0.327551   \n",
       "sqft_living    0.304240    0.883984       0.338460     0.511740    0.396030   \n",
       "sqft_lot      -0.032097    0.129231       0.004111     0.087169    0.155250   \n",
       "floors         1.000000    0.448281      -0.248093     0.132656    0.125183   \n",
       "sqft_above     0.448281    1.000000      -0.066801     0.560551    0.312117   \n",
       "sqft_basement -0.248093   -0.066801       1.000000     0.026361    0.210500   \n",
       "sqft_garage    0.132656    0.560551       0.026361     1.000000    0.216354   \n",
       "sqft_patio     0.125183    0.312117       0.210500     0.216354    1.000000   \n",
       "yr_built       0.544646    0.387448      -0.230226     0.447560    0.138409   \n",
       "yr_renovated  -0.025449    0.010598       0.053634    -0.098603    0.056385   \n",
       "lat           -0.218554    0.092258       0.059788     0.092346   -0.019724   \n",
       "long           0.233781   -0.082744      -0.045208    -0.096861    0.025699   \n",
       "\n",
       "               yr_built  yr_renovated       lat      long  \n",
       "id             0.023071     -0.029131 -0.000691  0.000479  \n",
       "price          0.096013      0.084786  0.063632 -0.022509  \n",
       "bedrooms       0.146191      0.014286  0.108758 -0.106689  \n",
       "bathrooms      0.443648      0.040631 -0.005225  0.017400  \n",
       "sqft_living    0.291694      0.038499  0.102186 -0.087669  \n",
       "sqft_lot       0.001750      0.010049  0.030020 -0.034308  \n",
       "floors         0.544646     -0.025449 -0.218554  0.233781  \n",
       "sqft_above     0.387448      0.010598  0.092258 -0.082744  \n",
       "sqft_basement -0.230226      0.053634  0.059788 -0.045208  \n",
       "sqft_garage    0.447560     -0.098603  0.092346 -0.096861  \n",
       "sqft_patio     0.138409      0.056385 -0.019724  0.025699  \n",
       "yr_built       1.000000     -0.239284 -0.207186  0.209878  \n",
       "yr_renovated  -0.239284      1.000000  0.036956 -0.035631  \n",
       "lat           -0.207186      0.036956  1.000000 -0.760766  \n",
       "long           0.209878     -0.035631 -0.760766  1.000000  "
      ]
     },
     "execution_count": 12,
     "metadata": {},
     "output_type": "execute_result"
    }
   ],
   "source": [
    "clean_df.corr()"
   ]
  },
  {
   "cell_type": "code",
   "execution_count": 13,
   "metadata": {},
   "outputs": [
    {
     "data": {
      "image/png": "[encoded data removed]",
      "text/plain": [
       "<Figure size 1008x432 with 2 Axes>"
      ]
     },
     "metadata": {
      "needs_background": "light"
     },
     "output_type": "display_data"
    }
   ],
   "source": [
    "plt.figure(figsize=(14, 6))\n",
    "sns.heatmap(clean_df.corr().abs(), annot=True)\n",
    "\n",
    "plt.title('Correlation Matrix for Features')\n",
    "plt.savefig('./vis/' + 'corrmat', bbox_inches='tight');\n",
    "plt.show()"
   ]
  },
  {
   "cell_type": "code",
   "execution_count": 14,
   "metadata": {},
   "outputs": [
    {
     "data": {
      "image/png": "[encoded data removed]",
      "text/plain": [
       "<Figure size 864x432 with 2 Axes>"
      ]
     },
     "metadata": {
      "needs_background": "light"
     },
     "output_type": "display_data"
    }
   ],
   "source": [
    "plt.figure(figsize=(12, 6))\n",
    "# define the mask to set the values in the upper triangle to True\n",
    "mask = np.triu(np.ones_like(clean_df.corr(), dtype=bool))\n",
    "heatmap = sns.heatmap(clean_df.corr(), mask=mask, vmin=-1, vmax=1, annot=True)\n",
    "heatmap.set_title('Triangle Correlation Heatmap', fontdict={'fontsize':18}, pad=16);\n",
    "plt.savefig('./vis/' + 'corrmat2', bbox_inches='tight');"
   ]
  },
  {
   "cell_type": "markdown",
   "metadata": {},
   "source": [
    "# Columns that I nominate we drop! Are: sqft_lot15, long, lat, yr built, sqft_lot. "
   ]
  },
  {
   "cell_type": "markdown",
   "metadata": {},
   "source": [
    "# We shall now resume the Saga of waterfront Nan."
   ]
  },
  {
   "cell_type": "markdown",
   "metadata": {},
   "source": [
    "Through Tableau I exported the DF of the 79 entries that needed to be changed from NAN to YES. All other frames of NAN will be changed to NO. Below I am importing the CSV that has the IDs of all the entries to be changed to YES."
   ]
  },
  {
   "cell_type": "code",
   "execution_count": 15,
   "metadata": {},
   "outputs": [],
   "source": [
    "waterfront_id = pd.read_csv('./data/waterfront - Sheet1.csv')"
   ]
  },
  {
   "cell_type": "code",
   "execution_count": 16,
   "metadata": {},
   "outputs": [
    {
     "data": {
      "text/html": [
       "<div>\n",
       "<style scoped>\n",
       "    .dataframe tbody tr th:only-of-type {\n",
       "        vertical-align: middle;\n",
       "    }\n",
       "\n",
       "    .dataframe tbody tr th {\n",
       "        vertical-align: top;\n",
       "    }\n",
       "\n",
       "    .dataframe thead th {\n",
       "        text-align: right;\n",
       "    }\n",
       "</style>\n",
       "<table border=\"1\" class=\"dataframe\">\n",
       "  <thead>\n",
       "    <tr style=\"text-align: right;\">\n",
       "      <th></th>\n",
       "      <th>Id</th>\n",
       "      <th>Lat</th>\n",
       "      <th>Long</th>\n",
       "    </tr>\n",
       "  </thead>\n",
       "  <tbody>\n",
       "    <tr>\n",
       "      <th>0</th>\n",
       "      <td>46100204</td>\n",
       "      <td>47.5673</td>\n",
       "      <td>-122.210</td>\n",
       "    </tr>\n",
       "    <tr>\n",
       "      <th>1</th>\n",
       "      <td>46100504</td>\n",
       "      <td>47.5648</td>\n",
       "      <td>-122.210</td>\n",
       "    </tr>\n",
       "    <tr>\n",
       "      <th>2</th>\n",
       "      <td>121039042</td>\n",
       "      <td>47.3351</td>\n",
       "      <td>-122.362</td>\n",
       "    </tr>\n",
       "    <tr>\n",
       "      <th>3</th>\n",
       "      <td>148000705</td>\n",
       "      <td>47.5732</td>\n",
       "      <td>-122.411</td>\n",
       "    </tr>\n",
       "    <tr>\n",
       "      <th>4</th>\n",
       "      <td>518500610</td>\n",
       "      <td>47.5299</td>\n",
       "      <td>-122.203</td>\n",
       "    </tr>\n",
       "    <tr>\n",
       "      <th>...</th>\n",
       "      <td>...</td>\n",
       "      <td>...</td>\n",
       "      <td>...</td>\n",
       "    </tr>\n",
       "    <tr>\n",
       "      <th>74</th>\n",
       "      <td>8550001515</td>\n",
       "      <td>47.3551</td>\n",
       "      <td>-122.475</td>\n",
       "    </tr>\n",
       "    <tr>\n",
       "      <th>75</th>\n",
       "      <td>8888000055</td>\n",
       "      <td>47.4781</td>\n",
       "      <td>-122.490</td>\n",
       "    </tr>\n",
       "    <tr>\n",
       "      <th>76</th>\n",
       "      <td>9201300020</td>\n",
       "      <td>47.5789</td>\n",
       "      <td>-122.076</td>\n",
       "    </tr>\n",
       "    <tr>\n",
       "      <th>77</th>\n",
       "      <td>9273200145</td>\n",
       "      <td>47.5909</td>\n",
       "      <td>-122.384</td>\n",
       "    </tr>\n",
       "    <tr>\n",
       "      <th>78</th>\n",
       "      <td>9829200325</td>\n",
       "      <td>47.6061</td>\n",
       "      <td>-122.286</td>\n",
       "    </tr>\n",
       "  </tbody>\n",
       "</table>\n",
       "<p>79 rows × 3 columns</p>\n",
       "</div>"
      ],
      "text/plain": [
       "            Id      Lat     Long\n",
       "0     46100204  47.5673 -122.210\n",
       "1     46100504  47.5648 -122.210\n",
       "2    121039042  47.3351 -122.362\n",
       "3    148000705  47.5732 -122.411\n",
       "4    518500610  47.5299 -122.203\n",
       "..         ...      ...      ...\n",
       "74  8550001515  47.3551 -122.475\n",
       "75  8888000055  47.4781 -122.490\n",
       "76  9201300020  47.5789 -122.076\n",
       "77  9273200145  47.5909 -122.384\n",
       "78  9829200325  47.6061 -122.286\n",
       "\n",
       "[79 rows x 3 columns]"
      ]
     },
     "execution_count": 16,
     "metadata": {},
     "output_type": "execute_result"
    }
   ],
   "source": [
    "waterfront_id"
   ]
  },
  {
   "cell_type": "code",
   "execution_count": 17,
   "metadata": {},
   "outputs": [
    {
     "name": "stdout",
     "output_type": "stream",
     "text": [
      "<class 'pandas.core.frame.DataFrame'>\n",
      "RangeIndex: 79 entries, 0 to 78\n",
      "Data columns (total 3 columns):\n",
      " #   Column  Non-Null Count  Dtype  \n",
      "---  ------  --------------  -----  \n",
      " 0   Id      79 non-null     int64  \n",
      " 1   Lat     79 non-null     float64\n",
      " 2   Long    79 non-null     float64\n",
      "dtypes: float64(2), int64(1)\n",
      "memory usage: 2.0 KB\n"
     ]
    }
   ],
   "source": [
    "waterfront_id.info()"
   ]
  },
  {
   "cell_type": "code",
   "execution_count": 18,
   "metadata": {},
   "outputs": [
    {
     "data": {
      "text/plain": [
       "0       46100204\n",
       "1       46100504\n",
       "2      121039042\n",
       "3      148000705\n",
       "4      518500610\n",
       "         ...    \n",
       "74    8550001515\n",
       "75    8888000055\n",
       "76    9201300020\n",
       "77    9273200145\n",
       "78    9829200325\n",
       "Name: Id, Length: 79, dtype: int64"
      ]
     },
     "execution_count": 18,
     "metadata": {},
     "output_type": "execute_result"
    }
   ],
   "source": [
    "waterfront_id['Id']"
   ]
  },
  {
   "cell_type": "markdown",
   "metadata": {},
   "source": [
    "To accomplish my goal of having every waterfront house labeled as such I will create a master list of all the IDs that need a YES value. To do this I first needed to create list of unique values for Ids in waterfront dataframe. remember that this is the dataframe of all the waterfront properties that used to be listed as NAN."
   ]
  },
  {
   "cell_type": "code",
   "execution_count": 19,
   "metadata": {},
   "outputs": [],
   "source": [
    "water_ids = waterfront_id['Id'].unique()"
   ]
  },
  {
   "cell_type": "markdown",
   "metadata": {},
   "source": [
    "Create list of the unique values for Ids from the original dataframe."
   ]
  },
  {
   "cell_type": "code",
   "execution_count": 20,
   "metadata": {},
   "outputs": [],
   "source": [
    "og_water = df[df['waterfront'] == 'YES']"
   ]
  },
  {
   "cell_type": "code",
   "execution_count": 21,
   "metadata": {},
   "outputs": [],
   "source": [
    "og_water_ids = og_water['id'].unique()"
   ]
  },
  {
   "cell_type": "markdown",
   "metadata": {},
   "source": [
    "These are my two np.arrays that will be combined together as lists to create a master list which I called final because I was lostss in the sauce and couldnt come up with descriptive names."
   ]
  },
  {
   "cell_type": "code",
   "execution_count": 22,
   "metadata": {},
   "outputs": [
    {
     "data": {
      "text/plain": [
       "array([7849200460, 7937600340, 2085200775, 3342103985, 7327700100,\n",
       "       7327700090, 4045500060,  239000136, 6151800280,  726059171,\n",
       "       4016800015,  895000035, 2817210010, 8731960240,  222029022,\n",
       "       1459500060,  724069123,  537000320, 3122039039,  121039083,\n",
       "       3524049137, 5559200055,  625059040, 1722039039, 4045000065,\n",
       "       1981200150, 1924059087,  824059240, 1364300330, 1364300325,\n",
       "       6795100420,  921049244,  284000095, 6151800340, 3793600100,\n",
       "       2623039032, 4013200075, 2923039243, 7129302735, 7702600810,\n",
       "       2223059061, 2224079090, 2322069066, 8096000155, 4046710190,\n",
       "        323079078, 3980300165, 1422039001, 2624089072, 2423029055,\n",
       "       8106100110, 4045000055, 2623039042, 9413400100, 6064600100,\n",
       "       3343302600, 5494400140, 7937600535, 6072800125, 3761100196,\n",
       "       3343302500, 7293700005,  203100235, 1823069030, 3534900325,\n",
       "       3422049073, 4047200130, 3423069020, 1364300036, 1724069035,\n",
       "       2524049153, 2923500230,  824069060, 2223059069, 2623029004,\n",
       "       6065300490, 7768700175, 7768700180, 8069000110, 2891400350,\n",
       "       3761700065, 2626119082, 4016800010, 4030100035, 4030100040,\n",
       "       7430500335, 7129303055, 4141000270, 4045500250, 8955800050,\n",
       "       3625059048, 5451300038, 1455100340, 4097100045, 1410300005,\n",
       "       6744701260, 2926139036, 2424049035, 7352200665, 8731902460,\n",
       "       7351700125, 1023079036, 7430500330, 2172000126, 4048400030,\n",
       "       2085200635, 4013200240,  240000010,  239000215, 4067600360,\n",
       "        424069103,  424069102,  518500320,  222029048,  824059018,\n",
       "       7334400420, 1522029003, 7768700156, 7351700280, 5315102050,\n",
       "       1425079048, 2423089051, 1023089140, 4054510200, 7345300080,\n",
       "       2621059006, 4008400200, 1422039027,  722069175,  824069059,\n",
       "        832000165, 2622049066, 9471200795, 1923049070, 7352200480,\n",
       "       4391600075, 7334600330, 5068400085, 2423089014, 7937600755,\n",
       "       2023039051, 7700100205, 3835503090, 6398000415, 4217402430,\n",
       "       2623029040, 2323089069, 6072800175,  221029160, 2423029046,\n",
       "       3210200061, 2523089001, 6117502180, 6072800135, 2608600080,\n",
       "       4013200035, 3463400320, 3222079075, 2597501130, 3708900065,\n",
       "        832000161, 4013200215,  238000082, 3410600125, 3024059118,\n",
       "       1628700010, 4131900060, 4053200300, 7936000158, 4134300241,\n",
       "       6613500040, 4045900095, 2425049211, 3523029027,  321069063,\n",
       "       1723069043, 2013800816, 2177500360, 1949700065, 2223089071,\n",
       "       7525470040,  518500440,  822039056, 8731950060, 1522069064,\n",
       "       9208900030, 4067600345, 2085200026, 4199900005, 2322069011,\n",
       "       2222900086, 1923049031, 2796700077, 1364300010, 4054510310,\n",
       "       6065300291, 7702600350, 6065300370, 2923099040, 4008400115,\n",
       "        421069021, 3524049001, 3534900543, 3760500070, 1323089112,\n",
       "       2033600065, 3760500337, 2623039044, 7436000261,  824059117,\n",
       "       7762200150, 3980300075,  121039046, 6072800195, 9462200080,\n",
       "        721079037, 2425049122, 4102000055, 1522039085, 4389200805,\n",
       "       7590700080, 5026900300,  200000140, 1221069026, 4114601560,\n",
       "       8155800350,  824059279, 5031800033, 1949700006, 4013200130,\n",
       "        422059021, 6399600105,  826059239, 3124059030, 2623039063,\n",
       "       4127000720, 3343302140, 5559200085, 7558700006,  822039083,\n",
       "       4127000540, 3751603610,  203100490, 1272200150, 4045500395,\n",
       "        326069083, 7784000265,  723039170, 6613001120, 4127000555,\n",
       "       6151800145, 6102400167, 2560806010,  321069065, 3422049083,\n",
       "       2923099037, 1630700190, 2322069099, 1823099039, 1025039125,\n",
       "       2123059037, 7129301715, 3463400310, 3225069041, 1630700210,\n",
       "       1455100290,  240000255, 5315102080, 4053200650, 7349800180,\n",
       "       3225069007,  222029033, 1025039031,  904000005, 7384500007,\n",
       "       3728800040, 3034200784, 7325600180, 6896300235, 1422039075,\n",
       "       1196000325, 2085200665, 3034200305, 2624089082, 5417600175,\n",
       "       4399220060, 1025039161, 4046601220, 8715600069,  824059308,\n",
       "        164000380, 3222049136, 7558700030, 7636800100, 3343302475,\n",
       "       2624089092, 5553300025, 2322069142, 3523029049, 7203600325,\n",
       "       2177500250, 7397300131, 4016800045, 7473500060, 4127000105,\n",
       "       2624049225, 1722039057, 9283800170, 9536600025, 2423039158,\n",
       "       2223059036, 3343302220, 1422069092, 3761100096, 5031800055,\n",
       "       7702600750, 3980300025, 9283800255, 4058201524, 1225079025,\n",
       "       2220400050, 1029800100, 1455100254, 7558800620,  537000270,\n",
       "       4053200380, 1827200300, 7702600280, 8550002375, 8732020690,\n",
       "        221029070, 1224059153, 1238500811, 6930600115, 1465400146,\n",
       "       1738700030, 5559200185, 4048400125, 1925069002,  240000320,\n",
       "       4008400465,  239000060, 3223039213, 6710100020,  622109021,\n",
       "       1364300370, 4045000080,  825059178, 2172000030, 3720800015,\n",
       "       8106100160, 1959702165, 1563100280, 7334400160, 2822069038,\n",
       "        281100035, 7351700285, 3426049056, 1827200350, 4067600055,\n",
       "       7632400280, 8731950080, 1021049056, 7349700040, 2033600070,\n",
       "       4127000780,  624059056, 6896300250, 1722049018, 8073000470,\n",
       "       1248100005, 4114601485, 1225079021, 2322069040, 3534900300,\n",
       "       3980300155,  923089048,  203100285, 6828700046, 7430500180,\n",
       "        922039003, 8731950130, 3024059065, 7331900110, 1176001320,\n",
       "       1623089119, 3463400200, 5215200080, 6398000191, 1176001350,\n",
       "       8043700025, 1824069072, 3410600140, 4047200425, 7349700070,\n",
       "       9253900376,  422069050, 4217402320, 4054510240, 2425049155,\n",
       "       1364300030, 2622049054, 9253900366, 5026900270, 3625059029,\n",
       "       7334600360, 8732010140, 2023039107, 4080800065, 4008400360,\n",
       "       1467400095, 3980300045, 4127000730, 7702600890, 2422000130,\n",
       "       5702500320,  537000049,  549100105, 1025039086, 2025069065,\n",
       "       6117501630, 3410600015, 2223089001, 4053200595, 4013200196,\n",
       "       3980300090, 1422039025, 9808701010,  624069043, 1021069068,\n",
       "       5736500035, 7567600055, 3343302530, 2623029088, 8917100060,\n",
       "       9365700323, 2472700095, 6623400290, 1238500815, 3760500021,\n",
       "       1029800120,  518500340, 1021079117,  624059038, 8887000165,\n",
       "       5506500130, 3835501533, 1023079110, 6399600245, 1823069056,\n",
       "       4046500910, 4102000035, 4139300006, 6896300252, 3750602787,\n",
       "       1949700100, 9189700040, 7702600530, 5031800240,  537000110,\n",
       "       7844200325, 1724069036, 1224059133, 3222049004, 3358500110,\n",
       "       1823039090,  323089075, 6151800345, 7702600410, 2322029176,\n",
       "       4067600075, 1459500041, 7702600730, 3343302290, 8887000185,\n",
       "       5427300046, 1471400030,  624059035, 9201300020, 7936000348,\n",
       "       2223059057, 1272200155, 4047200280,  203100630, 2622029031,\n",
       "       2220400220, 7331900150, 1026059030, 1926049120, 4053200535,\n",
       "       1622039054, 2322069035, 4102000060, 3751603655, 6454200050,\n",
       "       6710100035, 1724069092, 7558800660, 2923099026, 2923099027,\n",
       "       1121039040, 7849200055, 3421079032, 4016800115, 1176001310,\n",
       "        824059118, 1121039035, 1121039133, 1923049395, 9536601195,\n",
       "       3323069058, 3341000135, 2826129009, 2821049033, 1924069081,\n",
       "       4080800010, 7278100906, 7933500350, 3760500285], dtype=int64)"
      ]
     },
     "execution_count": 22,
     "metadata": {},
     "output_type": "execute_result"
    }
   ],
   "source": [
    "og_water_ids"
   ]
  },
  {
   "cell_type": "code",
   "execution_count": 23,
   "metadata": {},
   "outputs": [
    {
     "data": {
      "text/plain": [
       "array([  46100204,   46100504,  121039042,  148000705,  518500610,\n",
       "        521049227,  573000685,  587550280,  623039026,  824059265,\n",
       "        825059178,  868001790,  913000340, 1454600256, 1524039043,\n",
       "       1568100920, 1724069060, 1814800060, 1822039138, 1825069031,\n",
       "       1959701890, 1962200435, 1964700054, 2025049111, 2025049114,\n",
       "       2025069025, 2344300180, 2525049263, 2560805440, 2579500110,\n",
       "       2581300055, 2607801120, 2726049034, 2818600060, 2929600035,\n",
       "       3222049159, 3342100569, 3342700371, 3577000116, 3616600003,\n",
       "       3629160060, 3760500280, 3760500516, 3761700053, 3896100130,\n",
       "       4058200040, 4154303215, 4218400100, 4385700660, 4385700735,\n",
       "       4441300170, 5067400032, 5215200010, 5249803645, 5451300105,\n",
       "       5486800070, 5700003630, 6102400166, 6117500320, 6117501015,\n",
       "       6329000050, 6371000026, 6372000280, 6398000191, 7129303070,\n",
       "       7203600040, 7203600560, 7430500301, 7524950710, 7632400400,\n",
       "       7768800290, 7772800020, 7781600100, 8106100085, 8550001515,\n",
       "       8888000055, 9201300020, 9273200145, 9829200325], dtype=int64)"
      ]
     },
     "execution_count": 23,
     "metadata": {},
     "output_type": "execute_result"
    }
   ],
   "source": [
    "water_ids"
   ]
  },
  {
   "cell_type": "markdown",
   "metadata": {},
   "source": [
    "convert both np.array to lists and combione them together so that we can search them in the whatever function. \"whatever\" is actually the name of the function because.. well.. I was lost in the sauce and thats just the name that I had in the moment.."
   ]
  },
  {
   "cell_type": "code",
   "execution_count": 24,
   "metadata": {},
   "outputs": [],
   "source": [
    "og_water_list = og_water_ids.tolist()"
   ]
  },
  {
   "cell_type": "code",
   "execution_count": 25,
   "metadata": {},
   "outputs": [],
   "source": [
    "water_list = water_ids.tolist()"
   ]
  },
  {
   "cell_type": "code",
   "execution_count": 26,
   "metadata": {},
   "outputs": [],
   "source": [
    "final = water_list + og_water_list"
   ]
  },
  {
   "cell_type": "code",
   "execution_count": 27,
   "metadata": {},
   "outputs": [],
   "source": [
    "def whatever(row):\n",
    "    if row['id'] in final:\n",
    "        return \"YES\"\n",
    "    else:\n",
    "        return \"NO\"\n",
    "df['waterfront'] = df.apply(whatever, axis = 1)"
   ]
  },
  {
   "cell_type": "code",
   "execution_count": 28,
   "metadata": {},
   "outputs": [
    {
     "data": {
      "text/plain": [
       "NO     29626\n",
       "YES      529\n",
       "Name: waterfront, dtype: int64"
      ]
     },
     "execution_count": 28,
     "metadata": {},
     "output_type": "execute_result"
    }
   ],
   "source": [
    "df['waterfront'].value_counts()"
   ]
  },
  {
   "cell_type": "markdown",
   "metadata": {},
   "source": [
    "# No more Nans in my waterfront column!"
   ]
  },
  {
   "cell_type": "code",
   "execution_count": 29,
   "metadata": {},
   "outputs": [
    {
     "data": {
      "text/html": [
       "<div>\n",
       "<style scoped>\n",
       "    .dataframe tbody tr th:only-of-type {\n",
       "        vertical-align: middle;\n",
       "    }\n",
       "\n",
       "    .dataframe tbody tr th {\n",
       "        vertical-align: top;\n",
       "    }\n",
       "\n",
       "    .dataframe thead th {\n",
       "        text-align: right;\n",
       "    }\n",
       "</style>\n",
       "<table border=\"1\" class=\"dataframe\">\n",
       "  <thead>\n",
       "    <tr style=\"text-align: right;\">\n",
       "      <th></th>\n",
       "      <th>id</th>\n",
       "      <th>date</th>\n",
       "      <th>price</th>\n",
       "      <th>bedrooms</th>\n",
       "      <th>bathrooms</th>\n",
       "      <th>sqft_living</th>\n",
       "      <th>sqft_lot</th>\n",
       "      <th>floors</th>\n",
       "      <th>waterfront</th>\n",
       "      <th>greenbelt</th>\n",
       "      <th>...</th>\n",
       "      <th>sewer_system</th>\n",
       "      <th>sqft_above</th>\n",
       "      <th>sqft_basement</th>\n",
       "      <th>sqft_garage</th>\n",
       "      <th>sqft_patio</th>\n",
       "      <th>yr_built</th>\n",
       "      <th>yr_renovated</th>\n",
       "      <th>address</th>\n",
       "      <th>lat</th>\n",
       "      <th>long</th>\n",
       "    </tr>\n",
       "  </thead>\n",
       "  <tbody>\n",
       "    <tr>\n",
       "      <th>0</th>\n",
       "      <td>7399300360</td>\n",
       "      <td>5/24/2022</td>\n",
       "      <td>675000</td>\n",
       "      <td>4</td>\n",
       "      <td>1.0</td>\n",
       "      <td>1180</td>\n",
       "      <td>7140</td>\n",
       "      <td>1.0</td>\n",
       "      <td>NO</td>\n",
       "      <td>NO</td>\n",
       "      <td>...</td>\n",
       "      <td>PUBLIC</td>\n",
       "      <td>1180</td>\n",
       "      <td>0</td>\n",
       "      <td>0</td>\n",
       "      <td>40</td>\n",
       "      <td>1969</td>\n",
       "      <td>0</td>\n",
       "      <td>2102 Southeast 21st Court, Renton, Washington ...</td>\n",
       "      <td>47.461975</td>\n",
       "      <td>-122.19052</td>\n",
       "    </tr>\n",
       "    <tr>\n",
       "      <th>1</th>\n",
       "      <td>8910500230</td>\n",
       "      <td>12/13/2021</td>\n",
       "      <td>920000</td>\n",
       "      <td>5</td>\n",
       "      <td>2.5</td>\n",
       "      <td>2770</td>\n",
       "      <td>6703</td>\n",
       "      <td>1.0</td>\n",
       "      <td>NO</td>\n",
       "      <td>NO</td>\n",
       "      <td>...</td>\n",
       "      <td>PUBLIC</td>\n",
       "      <td>1570</td>\n",
       "      <td>1570</td>\n",
       "      <td>0</td>\n",
       "      <td>240</td>\n",
       "      <td>1950</td>\n",
       "      <td>0</td>\n",
       "      <td>11231 Greenwood Avenue North, Seattle, Washing...</td>\n",
       "      <td>47.711525</td>\n",
       "      <td>-122.35591</td>\n",
       "    </tr>\n",
       "    <tr>\n",
       "      <th>2</th>\n",
       "      <td>1180000275</td>\n",
       "      <td>9/29/2021</td>\n",
       "      <td>311000</td>\n",
       "      <td>6</td>\n",
       "      <td>2.0</td>\n",
       "      <td>2880</td>\n",
       "      <td>6156</td>\n",
       "      <td>1.0</td>\n",
       "      <td>NO</td>\n",
       "      <td>NO</td>\n",
       "      <td>...</td>\n",
       "      <td>PUBLIC</td>\n",
       "      <td>1580</td>\n",
       "      <td>1580</td>\n",
       "      <td>0</td>\n",
       "      <td>0</td>\n",
       "      <td>1956</td>\n",
       "      <td>0</td>\n",
       "      <td>8504 South 113th Street, Seattle, Washington 9...</td>\n",
       "      <td>47.502045</td>\n",
       "      <td>-122.22520</td>\n",
       "    </tr>\n",
       "    <tr>\n",
       "      <th>3</th>\n",
       "      <td>1604601802</td>\n",
       "      <td>12/14/2021</td>\n",
       "      <td>775000</td>\n",
       "      <td>3</td>\n",
       "      <td>3.0</td>\n",
       "      <td>2160</td>\n",
       "      <td>1400</td>\n",
       "      <td>2.0</td>\n",
       "      <td>NO</td>\n",
       "      <td>NO</td>\n",
       "      <td>...</td>\n",
       "      <td>PUBLIC</td>\n",
       "      <td>1090</td>\n",
       "      <td>1070</td>\n",
       "      <td>200</td>\n",
       "      <td>270</td>\n",
       "      <td>2010</td>\n",
       "      <td>0</td>\n",
       "      <td>4079 Letitia Avenue South, Seattle, Washington...</td>\n",
       "      <td>47.566110</td>\n",
       "      <td>-122.29020</td>\n",
       "    </tr>\n",
       "    <tr>\n",
       "      <th>4</th>\n",
       "      <td>8562780790</td>\n",
       "      <td>8/24/2021</td>\n",
       "      <td>592500</td>\n",
       "      <td>2</td>\n",
       "      <td>2.0</td>\n",
       "      <td>1120</td>\n",
       "      <td>758</td>\n",
       "      <td>2.0</td>\n",
       "      <td>NO</td>\n",
       "      <td>NO</td>\n",
       "      <td>...</td>\n",
       "      <td>PUBLIC</td>\n",
       "      <td>1120</td>\n",
       "      <td>550</td>\n",
       "      <td>550</td>\n",
       "      <td>30</td>\n",
       "      <td>2012</td>\n",
       "      <td>0</td>\n",
       "      <td>2193 Northwest Talus Drive, Issaquah, Washingt...</td>\n",
       "      <td>47.532470</td>\n",
       "      <td>-122.07188</td>\n",
       "    </tr>\n",
       "  </tbody>\n",
       "</table>\n",
       "<p>5 rows × 25 columns</p>\n",
       "</div>"
      ],
      "text/plain": [
       "           id        date   price  bedrooms  bathrooms  sqft_living  sqft_lot  \\\n",
       "0  7399300360   5/24/2022  675000         4        1.0         1180      7140   \n",
       "1  8910500230  12/13/2021  920000         5        2.5         2770      6703   \n",
       "2  1180000275   9/29/2021  311000         6        2.0         2880      6156   \n",
       "3  1604601802  12/14/2021  775000         3        3.0         2160      1400   \n",
       "4  8562780790   8/24/2021  592500         2        2.0         1120       758   \n",
       "\n",
       "   floors waterfront greenbelt  ... sewer_system sqft_above sqft_basement  \\\n",
       "0     1.0         NO        NO  ...       PUBLIC       1180             0   \n",
       "1     1.0         NO        NO  ...       PUBLIC       1570          1570   \n",
       "2     1.0         NO        NO  ...       PUBLIC       1580          1580   \n",
       "3     2.0         NO        NO  ...       PUBLIC       1090          1070   \n",
       "4     2.0         NO        NO  ...       PUBLIC       1120           550   \n",
       "\n",
       "  sqft_garage sqft_patio yr_built  yr_renovated  \\\n",
       "0           0         40     1969             0   \n",
       "1           0        240     1950             0   \n",
       "2           0          0     1956             0   \n",
       "3         200        270     2010             0   \n",
       "4         550         30     2012             0   \n",
       "\n",
       "                                             address        lat       long  \n",
       "0  2102 Southeast 21st Court, Renton, Washington ...  47.461975 -122.19052  \n",
       "1  11231 Greenwood Avenue North, Seattle, Washing...  47.711525 -122.35591  \n",
       "2  8504 South 113th Street, Seattle, Washington 9...  47.502045 -122.22520  \n",
       "3  4079 Letitia Avenue South, Seattle, Washington...  47.566110 -122.29020  \n",
       "4  2193 Northwest Talus Drive, Issaquah, Washingt...  47.532470 -122.07188  \n",
       "\n",
       "[5 rows x 25 columns]"
      ]
     },
     "execution_count": 29,
     "metadata": {},
     "output_type": "execute_result"
    }
   ],
   "source": [
    "df.head()"
   ]
  },
  {
   "cell_type": "markdown",
   "metadata": {},
   "source": [
    "# What are other dirty things that we can clean??"
   ]
  },
  {
   "cell_type": "code",
   "execution_count": 30,
   "metadata": {},
   "outputs": [
    {
     "name": "stdout",
     "output_type": "stream",
     "text": [
      "<class 'pandas.core.frame.DataFrame'>\n",
      "RangeIndex: 30155 entries, 0 to 30154\n",
      "Data columns (total 25 columns):\n",
      " #   Column         Non-Null Count  Dtype  \n",
      "---  ------         --------------  -----  \n",
      " 0   id             30155 non-null  int64  \n",
      " 1   date           30155 non-null  object \n",
      " 2   price          30155 non-null  int64  \n",
      " 3   bedrooms       30155 non-null  int64  \n",
      " 4   bathrooms      30155 non-null  float64\n",
      " 5   sqft_living    30155 non-null  int64  \n",
      " 6   sqft_lot       30155 non-null  int64  \n",
      " 7   floors         30155 non-null  float64\n",
      " 8   waterfront     30155 non-null  object \n",
      " 9   greenbelt      30155 non-null  object \n",
      " 10  nuisance       30155 non-null  object \n",
      " 11  view           30155 non-null  object \n",
      " 12  condition      30155 non-null  object \n",
      " 13  grade          30155 non-null  object \n",
      " 14  heat_source    30123 non-null  object \n",
      " 15  sewer_system   30141 non-null  object \n",
      " 16  sqft_above     30155 non-null  int64  \n",
      " 17  sqft_basement  30155 non-null  int64  \n",
      " 18  sqft_garage    30155 non-null  int64  \n",
      " 19  sqft_patio     30155 non-null  int64  \n",
      " 20  yr_built       30155 non-null  int64  \n",
      " 21  yr_renovated   30155 non-null  int64  \n",
      " 22  address        30155 non-null  object \n",
      " 23  lat            30155 non-null  float64\n",
      " 24  long           30155 non-null  float64\n",
      "dtypes: float64(4), int64(11), object(10)\n",
      "memory usage: 5.8+ MB\n"
     ]
    }
   ],
   "source": [
    "df.info()"
   ]
  },
  {
   "cell_type": "markdown",
   "metadata": {},
   "source": [
    "We can see here that there are still a few Null values in 'view' and in 'yr_renovated'. It will also be important to change date, view, waterfront, view, condition, and grade to numerical values to better serve our regresions."
   ]
  },
  {
   "cell_type": "markdown",
   "metadata": {},
   "source": [
    "# Lets take a look at cleaning view!"
   ]
  },
  {
   "cell_type": "code",
   "execution_count": 31,
   "metadata": {},
   "outputs": [
    {
     "data": {
      "text/plain": [
       "0"
      ]
     },
     "execution_count": 31,
     "metadata": {},
     "output_type": "execute_result"
    }
   ],
   "source": [
    "df['view'].isna().sum()"
   ]
  },
  {
   "cell_type": "code",
   "execution_count": 32,
   "metadata": {},
   "outputs": [
    {
     "data": {
      "text/html": [
       "<div>\n",
       "<style scoped>\n",
       "    .dataframe tbody tr th:only-of-type {\n",
       "        vertical-align: middle;\n",
       "    }\n",
       "\n",
       "    .dataframe tbody tr th {\n",
       "        vertical-align: top;\n",
       "    }\n",
       "\n",
       "    .dataframe thead th {\n",
       "        text-align: right;\n",
       "    }\n",
       "</style>\n",
       "<table border=\"1\" class=\"dataframe\">\n",
       "  <thead>\n",
       "    <tr style=\"text-align: right;\">\n",
       "      <th></th>\n",
       "      <th>id</th>\n",
       "      <th>date</th>\n",
       "      <th>price</th>\n",
       "      <th>bedrooms</th>\n",
       "      <th>bathrooms</th>\n",
       "      <th>sqft_living</th>\n",
       "      <th>sqft_lot</th>\n",
       "      <th>floors</th>\n",
       "      <th>waterfront</th>\n",
       "      <th>greenbelt</th>\n",
       "      <th>...</th>\n",
       "      <th>sewer_system</th>\n",
       "      <th>sqft_above</th>\n",
       "      <th>sqft_basement</th>\n",
       "      <th>sqft_garage</th>\n",
       "      <th>sqft_patio</th>\n",
       "      <th>yr_built</th>\n",
       "      <th>yr_renovated</th>\n",
       "      <th>address</th>\n",
       "      <th>lat</th>\n",
       "      <th>long</th>\n",
       "    </tr>\n",
       "  </thead>\n",
       "  <tbody>\n",
       "  </tbody>\n",
       "</table>\n",
       "<p>0 rows × 25 columns</p>\n",
       "</div>"
      ],
      "text/plain": [
       "Empty DataFrame\n",
       "Columns: [id, date, price, bedrooms, bathrooms, sqft_living, sqft_lot, floors, waterfront, greenbelt, nuisance, view, condition, grade, heat_source, sewer_system, sqft_above, sqft_basement, sqft_garage, sqft_patio, yr_built, yr_renovated, address, lat, long]\n",
       "Index: []\n",
       "\n",
       "[0 rows x 25 columns]"
      ]
     },
     "execution_count": 32,
     "metadata": {},
     "output_type": "execute_result"
    }
   ],
   "source": [
    "df[df[\"view\"].isnull()]"
   ]
  },
  {
   "cell_type": "code",
   "execution_count": 33,
   "metadata": {},
   "outputs": [
    {
     "data": {
      "text/plain": [
       "NONE         26589\n",
       "AVERAGE       1915\n",
       "GOOD           878\n",
       "EXCELLENT      553\n",
       "FAIR           220\n",
       "Name: view, dtype: int64"
      ]
     },
     "execution_count": 33,
     "metadata": {},
     "output_type": "execute_result"
    }
   ],
   "source": [
    "df['view'].value_counts()"
   ]
  },
  {
   "cell_type": "markdown",
   "metadata": {},
   "source": [
    "It seems like we have a few options here, one would be to drop the rows, which personally I dont have a problem with seeing as how we will most likely still have a strong model afterwards. We could also replace with the mean seeing as how adding a few more values in there probably wouldnt mess up a single variate regression but I think it might start having consiquences in a multi but.. i dont know.. It was also stated in the project description that deleting the view column wasnt a bad idea?"
   ]
  },
  {
   "cell_type": "code",
   "execution_count": 34,
   "metadata": {},
   "outputs": [],
   "source": [
    "drop_view_df = df.copy(deep=True)"
   ]
  },
  {
   "cell_type": "code",
   "execution_count": 35,
   "metadata": {},
   "outputs": [],
   "source": [
    "drop_view_df = drop_view_df.dropna(subset=['view'])"
   ]
  },
  {
   "cell_type": "code",
   "execution_count": 36,
   "metadata": {},
   "outputs": [
    {
     "data": {
      "text/html": [
       "<div>\n",
       "<style scoped>\n",
       "    .dataframe tbody tr th:only-of-type {\n",
       "        vertical-align: middle;\n",
       "    }\n",
       "\n",
       "    .dataframe tbody tr th {\n",
       "        vertical-align: top;\n",
       "    }\n",
       "\n",
       "    .dataframe thead th {\n",
       "        text-align: right;\n",
       "    }\n",
       "</style>\n",
       "<table border=\"1\" class=\"dataframe\">\n",
       "  <thead>\n",
       "    <tr style=\"text-align: right;\">\n",
       "      <th></th>\n",
       "      <th>id</th>\n",
       "      <th>date</th>\n",
       "      <th>price</th>\n",
       "      <th>bedrooms</th>\n",
       "      <th>bathrooms</th>\n",
       "      <th>sqft_living</th>\n",
       "      <th>sqft_lot</th>\n",
       "      <th>floors</th>\n",
       "      <th>waterfront</th>\n",
       "      <th>greenbelt</th>\n",
       "      <th>...</th>\n",
       "      <th>sewer_system</th>\n",
       "      <th>sqft_above</th>\n",
       "      <th>sqft_basement</th>\n",
       "      <th>sqft_garage</th>\n",
       "      <th>sqft_patio</th>\n",
       "      <th>yr_built</th>\n",
       "      <th>yr_renovated</th>\n",
       "      <th>address</th>\n",
       "      <th>lat</th>\n",
       "      <th>long</th>\n",
       "    </tr>\n",
       "  </thead>\n",
       "  <tbody>\n",
       "    <tr>\n",
       "      <th>0</th>\n",
       "      <td>7399300360</td>\n",
       "      <td>5/24/2022</td>\n",
       "      <td>675000</td>\n",
       "      <td>4</td>\n",
       "      <td>1.0</td>\n",
       "      <td>1180</td>\n",
       "      <td>7140</td>\n",
       "      <td>1.0</td>\n",
       "      <td>NO</td>\n",
       "      <td>NO</td>\n",
       "      <td>...</td>\n",
       "      <td>PUBLIC</td>\n",
       "      <td>1180</td>\n",
       "      <td>0</td>\n",
       "      <td>0</td>\n",
       "      <td>40</td>\n",
       "      <td>1969</td>\n",
       "      <td>0</td>\n",
       "      <td>2102 Southeast 21st Court, Renton, Washington ...</td>\n",
       "      <td>47.461975</td>\n",
       "      <td>-122.19052</td>\n",
       "    </tr>\n",
       "    <tr>\n",
       "      <th>1</th>\n",
       "      <td>8910500230</td>\n",
       "      <td>12/13/2021</td>\n",
       "      <td>920000</td>\n",
       "      <td>5</td>\n",
       "      <td>2.5</td>\n",
       "      <td>2770</td>\n",
       "      <td>6703</td>\n",
       "      <td>1.0</td>\n",
       "      <td>NO</td>\n",
       "      <td>NO</td>\n",
       "      <td>...</td>\n",
       "      <td>PUBLIC</td>\n",
       "      <td>1570</td>\n",
       "      <td>1570</td>\n",
       "      <td>0</td>\n",
       "      <td>240</td>\n",
       "      <td>1950</td>\n",
       "      <td>0</td>\n",
       "      <td>11231 Greenwood Avenue North, Seattle, Washing...</td>\n",
       "      <td>47.711525</td>\n",
       "      <td>-122.35591</td>\n",
       "    </tr>\n",
       "    <tr>\n",
       "      <th>2</th>\n",
       "      <td>1180000275</td>\n",
       "      <td>9/29/2021</td>\n",
       "      <td>311000</td>\n",
       "      <td>6</td>\n",
       "      <td>2.0</td>\n",
       "      <td>2880</td>\n",
       "      <td>6156</td>\n",
       "      <td>1.0</td>\n",
       "      <td>NO</td>\n",
       "      <td>NO</td>\n",
       "      <td>...</td>\n",
       "      <td>PUBLIC</td>\n",
       "      <td>1580</td>\n",
       "      <td>1580</td>\n",
       "      <td>0</td>\n",
       "      <td>0</td>\n",
       "      <td>1956</td>\n",
       "      <td>0</td>\n",
       "      <td>8504 South 113th Street, Seattle, Washington 9...</td>\n",
       "      <td>47.502045</td>\n",
       "      <td>-122.22520</td>\n",
       "    </tr>\n",
       "    <tr>\n",
       "      <th>3</th>\n",
       "      <td>1604601802</td>\n",
       "      <td>12/14/2021</td>\n",
       "      <td>775000</td>\n",
       "      <td>3</td>\n",
       "      <td>3.0</td>\n",
       "      <td>2160</td>\n",
       "      <td>1400</td>\n",
       "      <td>2.0</td>\n",
       "      <td>NO</td>\n",
       "      <td>NO</td>\n",
       "      <td>...</td>\n",
       "      <td>PUBLIC</td>\n",
       "      <td>1090</td>\n",
       "      <td>1070</td>\n",
       "      <td>200</td>\n",
       "      <td>270</td>\n",
       "      <td>2010</td>\n",
       "      <td>0</td>\n",
       "      <td>4079 Letitia Avenue South, Seattle, Washington...</td>\n",
       "      <td>47.566110</td>\n",
       "      <td>-122.29020</td>\n",
       "    </tr>\n",
       "    <tr>\n",
       "      <th>4</th>\n",
       "      <td>8562780790</td>\n",
       "      <td>8/24/2021</td>\n",
       "      <td>592500</td>\n",
       "      <td>2</td>\n",
       "      <td>2.0</td>\n",
       "      <td>1120</td>\n",
       "      <td>758</td>\n",
       "      <td>2.0</td>\n",
       "      <td>NO</td>\n",
       "      <td>NO</td>\n",
       "      <td>...</td>\n",
       "      <td>PUBLIC</td>\n",
       "      <td>1120</td>\n",
       "      <td>550</td>\n",
       "      <td>550</td>\n",
       "      <td>30</td>\n",
       "      <td>2012</td>\n",
       "      <td>0</td>\n",
       "      <td>2193 Northwest Talus Drive, Issaquah, Washingt...</td>\n",
       "      <td>47.532470</td>\n",
       "      <td>-122.07188</td>\n",
       "    </tr>\n",
       "    <tr>\n",
       "      <th>...</th>\n",
       "      <td>...</td>\n",
       "      <td>...</td>\n",
       "      <td>...</td>\n",
       "      <td>...</td>\n",
       "      <td>...</td>\n",
       "      <td>...</td>\n",
       "      <td>...</td>\n",
       "      <td>...</td>\n",
       "      <td>...</td>\n",
       "      <td>...</td>\n",
       "      <td>...</td>\n",
       "      <td>...</td>\n",
       "      <td>...</td>\n",
       "      <td>...</td>\n",
       "      <td>...</td>\n",
       "      <td>...</td>\n",
       "      <td>...</td>\n",
       "      <td>...</td>\n",
       "      <td>...</td>\n",
       "      <td>...</td>\n",
       "      <td>...</td>\n",
       "    </tr>\n",
       "    <tr>\n",
       "      <th>30150</th>\n",
       "      <td>7834800180</td>\n",
       "      <td>11/30/2021</td>\n",
       "      <td>1555000</td>\n",
       "      <td>5</td>\n",
       "      <td>2.0</td>\n",
       "      <td>1910</td>\n",
       "      <td>4000</td>\n",
       "      <td>1.5</td>\n",
       "      <td>NO</td>\n",
       "      <td>NO</td>\n",
       "      <td>...</td>\n",
       "      <td>PUBLIC</td>\n",
       "      <td>1600</td>\n",
       "      <td>1130</td>\n",
       "      <td>0</td>\n",
       "      <td>210</td>\n",
       "      <td>1921</td>\n",
       "      <td>0</td>\n",
       "      <td>4673 Eastern Avenue North, Seattle, Washington...</td>\n",
       "      <td>47.664740</td>\n",
       "      <td>-122.32940</td>\n",
       "    </tr>\n",
       "    <tr>\n",
       "      <th>30151</th>\n",
       "      <td>194000695</td>\n",
       "      <td>6/16/2021</td>\n",
       "      <td>1313000</td>\n",
       "      <td>3</td>\n",
       "      <td>2.0</td>\n",
       "      <td>2020</td>\n",
       "      <td>5800</td>\n",
       "      <td>2.0</td>\n",
       "      <td>NO</td>\n",
       "      <td>NO</td>\n",
       "      <td>...</td>\n",
       "      <td>PUBLIC</td>\n",
       "      <td>2020</td>\n",
       "      <td>0</td>\n",
       "      <td>0</td>\n",
       "      <td>520</td>\n",
       "      <td>2011</td>\n",
       "      <td>0</td>\n",
       "      <td>4131 44th Avenue Southwest, Seattle, Washingto...</td>\n",
       "      <td>47.565610</td>\n",
       "      <td>-122.38851</td>\n",
       "    </tr>\n",
       "    <tr>\n",
       "      <th>30152</th>\n",
       "      <td>7960100080</td>\n",
       "      <td>5/27/2022</td>\n",
       "      <td>800000</td>\n",
       "      <td>3</td>\n",
       "      <td>2.0</td>\n",
       "      <td>1620</td>\n",
       "      <td>3600</td>\n",
       "      <td>1.0</td>\n",
       "      <td>NO</td>\n",
       "      <td>NO</td>\n",
       "      <td>...</td>\n",
       "      <td>PUBLIC</td>\n",
       "      <td>940</td>\n",
       "      <td>920</td>\n",
       "      <td>240</td>\n",
       "      <td>110</td>\n",
       "      <td>1995</td>\n",
       "      <td>0</td>\n",
       "      <td>910 Martin Luther King Jr Way, Seattle, Washin...</td>\n",
       "      <td>47.610395</td>\n",
       "      <td>-122.29585</td>\n",
       "    </tr>\n",
       "    <tr>\n",
       "      <th>30153</th>\n",
       "      <td>2781280080</td>\n",
       "      <td>2/24/2022</td>\n",
       "      <td>775000</td>\n",
       "      <td>3</td>\n",
       "      <td>2.5</td>\n",
       "      <td>2570</td>\n",
       "      <td>2889</td>\n",
       "      <td>2.0</td>\n",
       "      <td>NO</td>\n",
       "      <td>NO</td>\n",
       "      <td>...</td>\n",
       "      <td>PUBLIC</td>\n",
       "      <td>1830</td>\n",
       "      <td>740</td>\n",
       "      <td>480</td>\n",
       "      <td>100</td>\n",
       "      <td>2006</td>\n",
       "      <td>0</td>\n",
       "      <td>17127 114th Avenue Southeast, Renton, Washingt...</td>\n",
       "      <td>47.449490</td>\n",
       "      <td>-122.18908</td>\n",
       "    </tr>\n",
       "    <tr>\n",
       "      <th>30154</th>\n",
       "      <td>9557800100</td>\n",
       "      <td>4/29/2022</td>\n",
       "      <td>500000</td>\n",
       "      <td>3</td>\n",
       "      <td>1.5</td>\n",
       "      <td>1200</td>\n",
       "      <td>11058</td>\n",
       "      <td>1.0</td>\n",
       "      <td>NO</td>\n",
       "      <td>NO</td>\n",
       "      <td>...</td>\n",
       "      <td>PUBLIC</td>\n",
       "      <td>1200</td>\n",
       "      <td>0</td>\n",
       "      <td>420</td>\n",
       "      <td>0</td>\n",
       "      <td>1965</td>\n",
       "      <td>0</td>\n",
       "      <td>18615 7th Avenue South, Burien, Washington 981...</td>\n",
       "      <td>47.435840</td>\n",
       "      <td>-122.32634</td>\n",
       "    </tr>\n",
       "  </tbody>\n",
       "</table>\n",
       "<p>30155 rows × 25 columns</p>\n",
       "</div>"
      ],
      "text/plain": [
       "               id        date    price  bedrooms  bathrooms  sqft_living  \\\n",
       "0      7399300360   5/24/2022   675000         4        1.0         1180   \n",
       "1      8910500230  12/13/2021   920000         5        2.5         2770   \n",
       "2      1180000275   9/29/2021   311000         6        2.0         2880   \n",
       "3      1604601802  12/14/2021   775000         3        3.0         2160   \n",
       "4      8562780790   8/24/2021   592500         2        2.0         1120   \n",
       "...           ...         ...      ...       ...        ...          ...   \n",
       "30150  7834800180  11/30/2021  1555000         5        2.0         1910   \n",
       "30151   194000695   6/16/2021  1313000         3        2.0         2020   \n",
       "30152  7960100080   5/27/2022   800000         3        2.0         1620   \n",
       "30153  2781280080   2/24/2022   775000         3        2.5         2570   \n",
       "30154  9557800100   4/29/2022   500000         3        1.5         1200   \n",
       "\n",
       "       sqft_lot  floors waterfront greenbelt  ... sewer_system sqft_above  \\\n",
       "0          7140     1.0         NO        NO  ...       PUBLIC       1180   \n",
       "1          6703     1.0         NO        NO  ...       PUBLIC       1570   \n",
       "2          6156     1.0         NO        NO  ...       PUBLIC       1580   \n",
       "3          1400     2.0         NO        NO  ...       PUBLIC       1090   \n",
       "4           758     2.0         NO        NO  ...       PUBLIC       1120   \n",
       "...         ...     ...        ...       ...  ...          ...        ...   \n",
       "30150      4000     1.5         NO        NO  ...       PUBLIC       1600   \n",
       "30151      5800     2.0         NO        NO  ...       PUBLIC       2020   \n",
       "30152      3600     1.0         NO        NO  ...       PUBLIC        940   \n",
       "30153      2889     2.0         NO        NO  ...       PUBLIC       1830   \n",
       "30154     11058     1.0         NO        NO  ...       PUBLIC       1200   \n",
       "\n",
       "      sqft_basement sqft_garage sqft_patio yr_built  yr_renovated  \\\n",
       "0                 0           0         40     1969             0   \n",
       "1              1570           0        240     1950             0   \n",
       "2              1580           0          0     1956             0   \n",
       "3              1070         200        270     2010             0   \n",
       "4               550         550         30     2012             0   \n",
       "...             ...         ...        ...      ...           ...   \n",
       "30150          1130           0        210     1921             0   \n",
       "30151             0           0        520     2011             0   \n",
       "30152           920         240        110     1995             0   \n",
       "30153           740         480        100     2006             0   \n",
       "30154             0         420          0     1965             0   \n",
       "\n",
       "                                                 address        lat       long  \n",
       "0      2102 Southeast 21st Court, Renton, Washington ...  47.461975 -122.19052  \n",
       "1      11231 Greenwood Avenue North, Seattle, Washing...  47.711525 -122.35591  \n",
       "2      8504 South 113th Street, Seattle, Washington 9...  47.502045 -122.22520  \n",
       "3      4079 Letitia Avenue South, Seattle, Washington...  47.566110 -122.29020  \n",
       "4      2193 Northwest Talus Drive, Issaquah, Washingt...  47.532470 -122.07188  \n",
       "...                                                  ...        ...        ...  \n",
       "30150  4673 Eastern Avenue North, Seattle, Washington...  47.664740 -122.32940  \n",
       "30151  4131 44th Avenue Southwest, Seattle, Washingto...  47.565610 -122.38851  \n",
       "30152  910 Martin Luther King Jr Way, Seattle, Washin...  47.610395 -122.29585  \n",
       "30153  17127 114th Avenue Southeast, Renton, Washingt...  47.449490 -122.18908  \n",
       "30154  18615 7th Avenue South, Burien, Washington 981...  47.435840 -122.32634  \n",
       "\n",
       "[30155 rows x 25 columns]"
      ]
     },
     "execution_count": 36,
     "metadata": {},
     "output_type": "execute_result"
    }
   ],
   "source": [
    "drop_view_df"
   ]
  },
  {
   "cell_type": "code",
   "execution_count": 37,
   "metadata": {},
   "outputs": [
    {
     "name": "stdout",
     "output_type": "stream",
     "text": [
      "<class 'pandas.core.frame.DataFrame'>\n",
      "Int64Index: 30155 entries, 0 to 30154\n",
      "Data columns (total 25 columns):\n",
      " #   Column         Non-Null Count  Dtype  \n",
      "---  ------         --------------  -----  \n",
      " 0   id             30155 non-null  int64  \n",
      " 1   date           30155 non-null  object \n",
      " 2   price          30155 non-null  int64  \n",
      " 3   bedrooms       30155 non-null  int64  \n",
      " 4   bathrooms      30155 non-null  float64\n",
      " 5   sqft_living    30155 non-null  int64  \n",
      " 6   sqft_lot       30155 non-null  int64  \n",
      " 7   floors         30155 non-null  float64\n",
      " 8   waterfront     30155 non-null  object \n",
      " 9   greenbelt      30155 non-null  object \n",
      " 10  nuisance       30155 non-null  object \n",
      " 11  view           30155 non-null  object \n",
      " 12  condition      30155 non-null  object \n",
      " 13  grade          30155 non-null  object \n",
      " 14  heat_source    30123 non-null  object \n",
      " 15  sewer_system   30141 non-null  object \n",
      " 16  sqft_above     30155 non-null  int64  \n",
      " 17  sqft_basement  30155 non-null  int64  \n",
      " 18  sqft_garage    30155 non-null  int64  \n",
      " 19  sqft_patio     30155 non-null  int64  \n",
      " 20  yr_built       30155 non-null  int64  \n",
      " 21  yr_renovated   30155 non-null  int64  \n",
      " 22  address        30155 non-null  object \n",
      " 23  lat            30155 non-null  float64\n",
      " 24  long           30155 non-null  float64\n",
      "dtypes: float64(4), int64(11), object(10)\n",
      "memory usage: 6.0+ MB\n"
     ]
    }
   ],
   "source": [
    "drop_view_df.info()"
   ]
  },
  {
   "cell_type": "markdown",
   "metadata": {},
   "source": [
    "Well, 21,500 aint all that bad.. I think we can still make a good model with that many values!"
   ]
  },
  {
   "cell_type": "markdown",
   "metadata": {},
   "source": [
    "# What about yr_renovated?"
   ]
  },
  {
   "cell_type": "code",
   "execution_count": 38,
   "metadata": {},
   "outputs": [
    {
     "data": {
      "text/plain": [
       "0       28783\n",
       "2021       69\n",
       "2006       49\n",
       "2018       44\n",
       "1990       42\n",
       "        ...  \n",
       "1924        1\n",
       "1942        1\n",
       "1972        1\n",
       "1951        1\n",
       "1930        1\n",
       "Name: yr_renovated, Length: 83, dtype: int64"
      ]
     },
     "execution_count": 38,
     "metadata": {},
     "output_type": "execute_result"
    }
   ],
   "source": [
    "drop_view_df.yr_renovated.value_counts()"
   ]
  },
  {
   "cell_type": "code",
   "execution_count": 39,
   "metadata": {},
   "outputs": [
    {
     "data": {
      "text/plain": [
       "0"
      ]
     },
     "execution_count": 39,
     "metadata": {},
     "output_type": "execute_result"
    }
   ],
   "source": [
    "drop_view_df['yr_renovated'].isna().sum()"
   ]
  },
  {
   "cell_type": "markdown",
   "metadata": {},
   "source": [
    "What I'm gather from this is that 17,000 have never been renovated!? and tbh, a renovation in 1950, does that even count as a renovation??? like, what is the cut off for a renovation? doesn't renovation imply that its kind of new feeling?? I think it would probably be fine to call all of these NaNs a 0. But 4000 is kind of a lot of data to be throwing around. But like where else would you put it? Imma just change them to 0 because there is a 20/21 chance they were gonna end up there anyways."
   ]
  },
  {
   "cell_type": "code",
   "execution_count": 40,
   "metadata": {},
   "outputs": [],
   "source": [
    "drop_view_df['yr_renovated']=drop_view_df['yr_renovated'].fillna(0)"
   ]
  },
  {
   "cell_type": "code",
   "execution_count": 41,
   "metadata": {},
   "outputs": [
    {
     "name": "stdout",
     "output_type": "stream",
     "text": [
      "<class 'pandas.core.frame.DataFrame'>\n",
      "Int64Index: 30155 entries, 0 to 30154\n",
      "Data columns (total 25 columns):\n",
      " #   Column         Non-Null Count  Dtype  \n",
      "---  ------         --------------  -----  \n",
      " 0   id             30155 non-null  int64  \n",
      " 1   date           30155 non-null  object \n",
      " 2   price          30155 non-null  int64  \n",
      " 3   bedrooms       30155 non-null  int64  \n",
      " 4   bathrooms      30155 non-null  float64\n",
      " 5   sqft_living    30155 non-null  int64  \n",
      " 6   sqft_lot       30155 non-null  int64  \n",
      " 7   floors         30155 non-null  float64\n",
      " 8   waterfront     30155 non-null  object \n",
      " 9   greenbelt      30155 non-null  object \n",
      " 10  nuisance       30155 non-null  object \n",
      " 11  view           30155 non-null  object \n",
      " 12  condition      30155 non-null  object \n",
      " 13  grade          30155 non-null  object \n",
      " 14  heat_source    30123 non-null  object \n",
      " 15  sewer_system   30141 non-null  object \n",
      " 16  sqft_above     30155 non-null  int64  \n",
      " 17  sqft_basement  30155 non-null  int64  \n",
      " 18  sqft_garage    30155 non-null  int64  \n",
      " 19  sqft_patio     30155 non-null  int64  \n",
      " 20  yr_built       30155 non-null  int64  \n",
      " 21  yr_renovated   30155 non-null  int64  \n",
      " 22  address        30155 non-null  object \n",
      " 23  lat            30155 non-null  float64\n",
      " 24  long           30155 non-null  float64\n",
      "dtypes: float64(4), int64(11), object(10)\n",
      "memory usage: 6.0+ MB\n"
     ]
    }
   ],
   "source": [
    "drop_view_df.info()"
   ]
  },
  {
   "cell_type": "markdown",
   "metadata": {},
   "source": [
    "Now we have no more Null values! We just need to change our non-numericals to num form."
   ]
  },
  {
   "cell_type": "markdown",
   "metadata": {},
   "source": [
    "# Converting to number form!"
   ]
  },
  {
   "cell_type": "markdown",
   "metadata": {},
   "source": [
    "What columns were we talking about again?? date, waterfront, view, condition, and grade. Date will probably be the easiest to deal with."
   ]
  },
  {
   "cell_type": "markdown",
   "metadata": {},
   "source": [
    "# Convert Date from object to datetime."
   ]
  },
  {
   "cell_type": "code",
   "execution_count": 42,
   "metadata": {},
   "outputs": [],
   "source": [
    "drop_view_df['date']= pd.to_datetime(drop_view_df['date'])"
   ]
  },
  {
   "cell_type": "code",
   "execution_count": 43,
   "metadata": {},
   "outputs": [
    {
     "name": "stdout",
     "output_type": "stream",
     "text": [
      "<class 'pandas.core.frame.DataFrame'>\n",
      "Int64Index: 30155 entries, 0 to 30154\n",
      "Data columns (total 25 columns):\n",
      " #   Column         Non-Null Count  Dtype         \n",
      "---  ------         --------------  -----         \n",
      " 0   id             30155 non-null  int64         \n",
      " 1   date           30155 non-null  datetime64[ns]\n",
      " 2   price          30155 non-null  int64         \n",
      " 3   bedrooms       30155 non-null  int64         \n",
      " 4   bathrooms      30155 non-null  float64       \n",
      " 5   sqft_living    30155 non-null  int64         \n",
      " 6   sqft_lot       30155 non-null  int64         \n",
      " 7   floors         30155 non-null  float64       \n",
      " 8   waterfront     30155 non-null  object        \n",
      " 9   greenbelt      30155 non-null  object        \n",
      " 10  nuisance       30155 non-null  object        \n",
      " 11  view           30155 non-null  object        \n",
      " 12  condition      30155 non-null  object        \n",
      " 13  grade          30155 non-null  object        \n",
      " 14  heat_source    30123 non-null  object        \n",
      " 15  sewer_system   30141 non-null  object        \n",
      " 16  sqft_above     30155 non-null  int64         \n",
      " 17  sqft_basement  30155 non-null  int64         \n",
      " 18  sqft_garage    30155 non-null  int64         \n",
      " 19  sqft_patio     30155 non-null  int64         \n",
      " 20  yr_built       30155 non-null  int64         \n",
      " 21  yr_renovated   30155 non-null  int64         \n",
      " 22  address        30155 non-null  object        \n",
      " 23  lat            30155 non-null  float64       \n",
      " 24  long           30155 non-null  float64       \n",
      "dtypes: datetime64[ns](1), float64(4), int64(11), object(9)\n",
      "memory usage: 6.0+ MB\n"
     ]
    }
   ],
   "source": [
    "drop_view_df.info()"
   ]
  },
  {
   "cell_type": "markdown",
   "metadata": {},
   "source": [
    "# Convert Waterfront from Y/N to 1 and 0"
   ]
  },
  {
   "cell_type": "code",
   "execution_count": 44,
   "metadata": {},
   "outputs": [],
   "source": [
    "numerical_value_clean = drop_view_df.copy(deep=True)"
   ]
  },
  {
   "cell_type": "code",
   "execution_count": 45,
   "metadata": {},
   "outputs": [],
   "source": [
    "numerical_value_clean.waterfront = numerical_value_clean.waterfront.map({'YES': 1, 'NO': 0})"
   ]
  },
  {
   "cell_type": "code",
   "execution_count": 46,
   "metadata": {},
   "outputs": [
    {
     "data": {
      "text/html": [
       "<div>\n",
       "<style scoped>\n",
       "    .dataframe tbody tr th:only-of-type {\n",
       "        vertical-align: middle;\n",
       "    }\n",
       "\n",
       "    .dataframe tbody tr th {\n",
       "        vertical-align: top;\n",
       "    }\n",
       "\n",
       "    .dataframe thead th {\n",
       "        text-align: right;\n",
       "    }\n",
       "</style>\n",
       "<table border=\"1\" class=\"dataframe\">\n",
       "  <thead>\n",
       "    <tr style=\"text-align: right;\">\n",
       "      <th></th>\n",
       "      <th>id</th>\n",
       "      <th>date</th>\n",
       "      <th>price</th>\n",
       "      <th>bedrooms</th>\n",
       "      <th>bathrooms</th>\n",
       "      <th>sqft_living</th>\n",
       "      <th>sqft_lot</th>\n",
       "      <th>floors</th>\n",
       "      <th>waterfront</th>\n",
       "      <th>greenbelt</th>\n",
       "      <th>...</th>\n",
       "      <th>sewer_system</th>\n",
       "      <th>sqft_above</th>\n",
       "      <th>sqft_basement</th>\n",
       "      <th>sqft_garage</th>\n",
       "      <th>sqft_patio</th>\n",
       "      <th>yr_built</th>\n",
       "      <th>yr_renovated</th>\n",
       "      <th>address</th>\n",
       "      <th>lat</th>\n",
       "      <th>long</th>\n",
       "    </tr>\n",
       "  </thead>\n",
       "  <tbody>\n",
       "    <tr>\n",
       "      <th>0</th>\n",
       "      <td>7399300360</td>\n",
       "      <td>2022-05-24</td>\n",
       "      <td>675000</td>\n",
       "      <td>4</td>\n",
       "      <td>1.0</td>\n",
       "      <td>1180</td>\n",
       "      <td>7140</td>\n",
       "      <td>1.0</td>\n",
       "      <td>0</td>\n",
       "      <td>NO</td>\n",
       "      <td>...</td>\n",
       "      <td>PUBLIC</td>\n",
       "      <td>1180</td>\n",
       "      <td>0</td>\n",
       "      <td>0</td>\n",
       "      <td>40</td>\n",
       "      <td>1969</td>\n",
       "      <td>0</td>\n",
       "      <td>2102 Southeast 21st Court, Renton, Washington ...</td>\n",
       "      <td>47.461975</td>\n",
       "      <td>-122.19052</td>\n",
       "    </tr>\n",
       "    <tr>\n",
       "      <th>1</th>\n",
       "      <td>8910500230</td>\n",
       "      <td>2021-12-13</td>\n",
       "      <td>920000</td>\n",
       "      <td>5</td>\n",
       "      <td>2.5</td>\n",
       "      <td>2770</td>\n",
       "      <td>6703</td>\n",
       "      <td>1.0</td>\n",
       "      <td>0</td>\n",
       "      <td>NO</td>\n",
       "      <td>...</td>\n",
       "      <td>PUBLIC</td>\n",
       "      <td>1570</td>\n",
       "      <td>1570</td>\n",
       "      <td>0</td>\n",
       "      <td>240</td>\n",
       "      <td>1950</td>\n",
       "      <td>0</td>\n",
       "      <td>11231 Greenwood Avenue North, Seattle, Washing...</td>\n",
       "      <td>47.711525</td>\n",
       "      <td>-122.35591</td>\n",
       "    </tr>\n",
       "    <tr>\n",
       "      <th>2</th>\n",
       "      <td>1180000275</td>\n",
       "      <td>2021-09-29</td>\n",
       "      <td>311000</td>\n",
       "      <td>6</td>\n",
       "      <td>2.0</td>\n",
       "      <td>2880</td>\n",
       "      <td>6156</td>\n",
       "      <td>1.0</td>\n",
       "      <td>0</td>\n",
       "      <td>NO</td>\n",
       "      <td>...</td>\n",
       "      <td>PUBLIC</td>\n",
       "      <td>1580</td>\n",
       "      <td>1580</td>\n",
       "      <td>0</td>\n",
       "      <td>0</td>\n",
       "      <td>1956</td>\n",
       "      <td>0</td>\n",
       "      <td>8504 South 113th Street, Seattle, Washington 9...</td>\n",
       "      <td>47.502045</td>\n",
       "      <td>-122.22520</td>\n",
       "    </tr>\n",
       "    <tr>\n",
       "      <th>3</th>\n",
       "      <td>1604601802</td>\n",
       "      <td>2021-12-14</td>\n",
       "      <td>775000</td>\n",
       "      <td>3</td>\n",
       "      <td>3.0</td>\n",
       "      <td>2160</td>\n",
       "      <td>1400</td>\n",
       "      <td>2.0</td>\n",
       "      <td>0</td>\n",
       "      <td>NO</td>\n",
       "      <td>...</td>\n",
       "      <td>PUBLIC</td>\n",
       "      <td>1090</td>\n",
       "      <td>1070</td>\n",
       "      <td>200</td>\n",
       "      <td>270</td>\n",
       "      <td>2010</td>\n",
       "      <td>0</td>\n",
       "      <td>4079 Letitia Avenue South, Seattle, Washington...</td>\n",
       "      <td>47.566110</td>\n",
       "      <td>-122.29020</td>\n",
       "    </tr>\n",
       "    <tr>\n",
       "      <th>4</th>\n",
       "      <td>8562780790</td>\n",
       "      <td>2021-08-24</td>\n",
       "      <td>592500</td>\n",
       "      <td>2</td>\n",
       "      <td>2.0</td>\n",
       "      <td>1120</td>\n",
       "      <td>758</td>\n",
       "      <td>2.0</td>\n",
       "      <td>0</td>\n",
       "      <td>NO</td>\n",
       "      <td>...</td>\n",
       "      <td>PUBLIC</td>\n",
       "      <td>1120</td>\n",
       "      <td>550</td>\n",
       "      <td>550</td>\n",
       "      <td>30</td>\n",
       "      <td>2012</td>\n",
       "      <td>0</td>\n",
       "      <td>2193 Northwest Talus Drive, Issaquah, Washingt...</td>\n",
       "      <td>47.532470</td>\n",
       "      <td>-122.07188</td>\n",
       "    </tr>\n",
       "  </tbody>\n",
       "</table>\n",
       "<p>5 rows × 25 columns</p>\n",
       "</div>"
      ],
      "text/plain": [
       "           id       date   price  bedrooms  bathrooms  sqft_living  sqft_lot  \\\n",
       "0  7399300360 2022-05-24  675000         4        1.0         1180      7140   \n",
       "1  8910500230 2021-12-13  920000         5        2.5         2770      6703   \n",
       "2  1180000275 2021-09-29  311000         6        2.0         2880      6156   \n",
       "3  1604601802 2021-12-14  775000         3        3.0         2160      1400   \n",
       "4  8562780790 2021-08-24  592500         2        2.0         1120       758   \n",
       "\n",
       "   floors  waterfront greenbelt  ... sewer_system sqft_above sqft_basement  \\\n",
       "0     1.0           0        NO  ...       PUBLIC       1180             0   \n",
       "1     1.0           0        NO  ...       PUBLIC       1570          1570   \n",
       "2     1.0           0        NO  ...       PUBLIC       1580          1580   \n",
       "3     2.0           0        NO  ...       PUBLIC       1090          1070   \n",
       "4     2.0           0        NO  ...       PUBLIC       1120           550   \n",
       "\n",
       "  sqft_garage sqft_patio yr_built  yr_renovated  \\\n",
       "0           0         40     1969             0   \n",
       "1           0        240     1950             0   \n",
       "2           0          0     1956             0   \n",
       "3         200        270     2010             0   \n",
       "4         550         30     2012             0   \n",
       "\n",
       "                                             address        lat       long  \n",
       "0  2102 Southeast 21st Court, Renton, Washington ...  47.461975 -122.19052  \n",
       "1  11231 Greenwood Avenue North, Seattle, Washing...  47.711525 -122.35591  \n",
       "2  8504 South 113th Street, Seattle, Washington 9...  47.502045 -122.22520  \n",
       "3  4079 Letitia Avenue South, Seattle, Washington...  47.566110 -122.29020  \n",
       "4  2193 Northwest Talus Drive, Issaquah, Washingt...  47.532470 -122.07188  \n",
       "\n",
       "[5 rows x 25 columns]"
      ]
     },
     "execution_count": 46,
     "metadata": {},
     "output_type": "execute_result"
    }
   ],
   "source": [
    "numerical_value_clean.head()"
   ]
  },
  {
   "cell_type": "markdown",
   "metadata": {},
   "source": [
    "Well that one wasn't so bad! Now I think we just have the more complex ones to do! I just need to verify that we actually need all of those columns!"
   ]
  },
  {
   "cell_type": "code",
   "execution_count": 47,
   "metadata": {},
   "outputs": [
    {
     "name": "stdout",
     "output_type": "stream",
     "text": [
      "<class 'pandas.core.frame.DataFrame'>\n",
      "Int64Index: 30155 entries, 0 to 30154\n",
      "Data columns (total 25 columns):\n",
      " #   Column         Non-Null Count  Dtype         \n",
      "---  ------         --------------  -----         \n",
      " 0   id             30155 non-null  int64         \n",
      " 1   date           30155 non-null  datetime64[ns]\n",
      " 2   price          30155 non-null  int64         \n",
      " 3   bedrooms       30155 non-null  int64         \n",
      " 4   bathrooms      30155 non-null  float64       \n",
      " 5   sqft_living    30155 non-null  int64         \n",
      " 6   sqft_lot       30155 non-null  int64         \n",
      " 7   floors         30155 non-null  float64       \n",
      " 8   waterfront     30155 non-null  int64         \n",
      " 9   greenbelt      30155 non-null  object        \n",
      " 10  nuisance       30155 non-null  object        \n",
      " 11  view           30155 non-null  object        \n",
      " 12  condition      30155 non-null  object        \n",
      " 13  grade          30155 non-null  object        \n",
      " 14  heat_source    30123 non-null  object        \n",
      " 15  sewer_system   30141 non-null  object        \n",
      " 16  sqft_above     30155 non-null  int64         \n",
      " 17  sqft_basement  30155 non-null  int64         \n",
      " 18  sqft_garage    30155 non-null  int64         \n",
      " 19  sqft_patio     30155 non-null  int64         \n",
      " 20  yr_built       30155 non-null  int64         \n",
      " 21  yr_renovated   30155 non-null  int64         \n",
      " 22  address        30155 non-null  object        \n",
      " 23  lat            30155 non-null  float64       \n",
      " 24  long           30155 non-null  float64       \n",
      "dtypes: datetime64[ns](1), float64(4), int64(12), object(8)\n",
      "memory usage: 6.0+ MB\n"
     ]
    }
   ],
   "source": [
    "numerical_value_clean.info()"
   ]
  },
  {
   "cell_type": "markdown",
   "metadata": {},
   "source": [
    "im noticing that sqft_basement is an object which i dont like"
   ]
  },
  {
   "cell_type": "markdown",
   "metadata": {},
   "source": [
    "# Whats up with sqft_basement?"
   ]
  },
  {
   "cell_type": "code",
   "execution_count": 48,
   "metadata": {},
   "outputs": [
    {
     "data": {
      "text/plain": [
       "0       15471\n",
       "1010      257\n",
       "1100      224\n",
       "1060      219\n",
       "1200      192\n",
       "        ...  \n",
       "3350        1\n",
       "1079        1\n",
       "3110        1\n",
       "2870        1\n",
       "3590        1\n",
       "Name: sqft_basement, Length: 459, dtype: int64"
      ]
     },
     "execution_count": 48,
     "metadata": {},
     "output_type": "execute_result"
    }
   ],
   "source": [
    "numerical_value_clean.sqft_basement.value_counts()"
   ]
  },
  {
   "cell_type": "markdown",
   "metadata": {},
   "source": [
    "Why does it have ? in there? what will I do with that?? Imma pull a Praveen and just delete em."
   ]
  },
  {
   "cell_type": "code",
   "execution_count": 49,
   "metadata": {},
   "outputs": [],
   "source": [
    "numerical_value_clean = numerical_value_clean[numerical_value_clean.sqft_basement != '?']"
   ]
  },
  {
   "cell_type": "code",
   "execution_count": 50,
   "metadata": {},
   "outputs": [
    {
     "data": {
      "text/plain": [
       "0       15471\n",
       "1010      257\n",
       "1100      224\n",
       "1060      219\n",
       "1200      192\n",
       "        ...  \n",
       "3350        1\n",
       "1079        1\n",
       "3110        1\n",
       "2870        1\n",
       "3590        1\n",
       "Name: sqft_basement, Length: 459, dtype: int64"
      ]
     },
     "execution_count": 50,
     "metadata": {},
     "output_type": "execute_result"
    }
   ],
   "source": [
    "numerical_value_clean.sqft_basement.value_counts()"
   ]
  },
  {
   "cell_type": "code",
   "execution_count": 51,
   "metadata": {},
   "outputs": [
    {
     "name": "stdout",
     "output_type": "stream",
     "text": [
      "<class 'pandas.core.frame.DataFrame'>\n",
      "Int64Index: 30155 entries, 0 to 30154\n",
      "Data columns (total 25 columns):\n",
      " #   Column         Non-Null Count  Dtype         \n",
      "---  ------         --------------  -----         \n",
      " 0   id             30155 non-null  int64         \n",
      " 1   date           30155 non-null  datetime64[ns]\n",
      " 2   price          30155 non-null  int64         \n",
      " 3   bedrooms       30155 non-null  int64         \n",
      " 4   bathrooms      30155 non-null  float64       \n",
      " 5   sqft_living    30155 non-null  int64         \n",
      " 6   sqft_lot       30155 non-null  int64         \n",
      " 7   floors         30155 non-null  float64       \n",
      " 8   waterfront     30155 non-null  int64         \n",
      " 9   greenbelt      30155 non-null  object        \n",
      " 10  nuisance       30155 non-null  object        \n",
      " 11  view           30155 non-null  object        \n",
      " 12  condition      30155 non-null  object        \n",
      " 13  grade          30155 non-null  object        \n",
      " 14  heat_source    30123 non-null  object        \n",
      " 15  sewer_system   30141 non-null  object        \n",
      " 16  sqft_above     30155 non-null  int64         \n",
      " 17  sqft_basement  30155 non-null  int64         \n",
      " 18  sqft_garage    30155 non-null  int64         \n",
      " 19  sqft_patio     30155 non-null  int64         \n",
      " 20  yr_built       30155 non-null  int64         \n",
      " 21  yr_renovated   30155 non-null  int64         \n",
      " 22  address        30155 non-null  object        \n",
      " 23  lat            30155 non-null  float64       \n",
      " 24  long           30155 non-null  float64       \n",
      "dtypes: datetime64[ns](1), float64(4), int64(12), object(8)\n",
      "memory usage: 6.0+ MB\n"
     ]
    }
   ],
   "source": [
    "numerical_value_clean.info()"
   ]
  },
  {
   "cell_type": "code",
   "execution_count": 52,
   "metadata": {},
   "outputs": [],
   "source": [
    "almost_done_cleaning = numerical_value_clean.copy(deep=True)"
   ]
  },
  {
   "cell_type": "code",
   "execution_count": 53,
   "metadata": {},
   "outputs": [],
   "source": [
    "almost_done_cleaning['sqft_basement'] = pd.to_numeric(almost_done_cleaning['sqft_basement'])"
   ]
  },
  {
   "cell_type": "code",
   "execution_count": 54,
   "metadata": {},
   "outputs": [
    {
     "name": "stdout",
     "output_type": "stream",
     "text": [
      "<class 'pandas.core.frame.DataFrame'>\n",
      "Int64Index: 30155 entries, 0 to 30154\n",
      "Data columns (total 25 columns):\n",
      " #   Column         Non-Null Count  Dtype         \n",
      "---  ------         --------------  -----         \n",
      " 0   id             30155 non-null  int64         \n",
      " 1   date           30155 non-null  datetime64[ns]\n",
      " 2   price          30155 non-null  int64         \n",
      " 3   bedrooms       30155 non-null  int64         \n",
      " 4   bathrooms      30155 non-null  float64       \n",
      " 5   sqft_living    30155 non-null  int64         \n",
      " 6   sqft_lot       30155 non-null  int64         \n",
      " 7   floors         30155 non-null  float64       \n",
      " 8   waterfront     30155 non-null  int64         \n",
      " 9   greenbelt      30155 non-null  object        \n",
      " 10  nuisance       30155 non-null  object        \n",
      " 11  view           30155 non-null  object        \n",
      " 12  condition      30155 non-null  object        \n",
      " 13  grade          30155 non-null  object        \n",
      " 14  heat_source    30123 non-null  object        \n",
      " 15  sewer_system   30141 non-null  object        \n",
      " 16  sqft_above     30155 non-null  int64         \n",
      " 17  sqft_basement  30155 non-null  int64         \n",
      " 18  sqft_garage    30155 non-null  int64         \n",
      " 19  sqft_patio     30155 non-null  int64         \n",
      " 20  yr_built       30155 non-null  int64         \n",
      " 21  yr_renovated   30155 non-null  int64         \n",
      " 22  address        30155 non-null  object        \n",
      " 23  lat            30155 non-null  float64       \n",
      " 24  long           30155 non-null  float64       \n",
      "dtypes: datetime64[ns](1), float64(4), int64(12), object(8)\n",
      "memory usage: 6.0+ MB\n"
     ]
    }
   ],
   "source": [
    "almost_done_cleaning.info()"
   ]
  },
  {
   "cell_type": "markdown",
   "metadata": {},
   "source": [
    "# How many different values are in view, condition, and grade?"
   ]
  },
  {
   "cell_type": "code",
   "execution_count": 55,
   "metadata": {},
   "outputs": [
    {
     "data": {
      "text/plain": [
       "NONE         26589\n",
       "AVERAGE       1915\n",
       "GOOD           878\n",
       "EXCELLENT      553\n",
       "FAIR           220\n",
       "Name: view, dtype: int64"
      ]
     },
     "execution_count": 55,
     "metadata": {},
     "output_type": "execute_result"
    }
   ],
   "source": [
    "almost_done_cleaning.view.value_counts()"
   ]
  },
  {
   "cell_type": "code",
   "execution_count": 56,
   "metadata": {},
   "outputs": [
    {
     "data": {
      "text/plain": [
       "7 Average        11697\n",
       "8 Good            9410\n",
       "9 Better          3806\n",
       "6 Low Average     2858\n",
       "10 Very Good      1371\n",
       "11 Excellent       406\n",
       "5 Fair             393\n",
       "12 Luxury          122\n",
       "4 Low               51\n",
       "13 Mansion          24\n",
       "3 Poor              13\n",
       "1 Cabin              2\n",
       "2 Substandard        2\n",
       "Name: grade, dtype: int64"
      ]
     },
     "execution_count": 56,
     "metadata": {},
     "output_type": "execute_result"
    }
   ],
   "source": [
    "almost_done_cleaning.grade.value_counts()"
   ]
  },
  {
   "cell_type": "code",
   "execution_count": 57,
   "metadata": {},
   "outputs": [
    {
     "data": {
      "text/plain": [
       "Average      18547\n",
       "Good          8054\n",
       "Very Good     3259\n",
       "Fair           230\n",
       "Poor            65\n",
       "Name: condition, dtype: int64"
      ]
     },
     "execution_count": 57,
     "metadata": {},
     "output_type": "execute_result"
    }
   ],
   "source": [
    "almost_done_cleaning.condition.value_counts()"
   ]
  },
  {
   "cell_type": "markdown",
   "metadata": {},
   "source": [
    "# Simple Linear Regression Regress"
   ]
  },
  {
   "cell_type": "markdown",
   "metadata": {},
   "source": [
    "While my group gets back to me on while of these things they would like to focus on, Im gonna do a simple linear regression."
   ]
  },
  {
   "cell_type": "code",
   "execution_count": 58,
   "metadata": {},
   "outputs": [],
   "source": [
    "import statsmodels.api as sm\n",
    "from statsmodels.formula.api import ols"
   ]
  },
  {
   "cell_type": "code",
   "execution_count": 59,
   "metadata": {},
   "outputs": [
    {
     "data": {
      "text/plain": [
       "<statsmodels.regression.linear_model.RegressionResultsWrapper at 0x2100b812820>"
      ]
     },
     "execution_count": 59,
     "metadata": {},
     "output_type": "execute_result"
    }
   ],
   "source": [
    "X = almost_done_cleaning[['sqft_living']]\n",
    "y = almost_done_cleaning['price']\n",
    "\n",
    "model = sm.OLS(endog = y, exog = sm.add_constant(X))\n",
    "results = model.fit()\n",
    "results"
   ]
  },
  {
   "cell_type": "code",
   "execution_count": 60,
   "metadata": {},
   "outputs": [
    {
     "data": {
      "text/html": [
       "<table class=\"simpletable\">\n",
       "<caption>OLS Regression Results</caption>\n",
       "<tr>\n",
       "  <th>Dep. Variable:</th>          <td>price</td>      <th>  R-squared:         </th>  <td>   0.370</td>  \n",
       "</tr>\n",
       "<tr>\n",
       "  <th>Model:</th>                   <td>OLS</td>       <th>  Adj. R-squared:    </th>  <td>   0.370</td>  \n",
       "</tr>\n",
       "<tr>\n",
       "  <th>Method:</th>             <td>Least Squares</td>  <th>  F-statistic:       </th>  <td>1.773e+04</td> \n",
       "</tr>\n",
       "<tr>\n",
       "  <th>Date:</th>             <td>Fri, 05 Aug 2022</td> <th>  Prob (F-statistic):</th>   <td>  0.00</td>   \n",
       "</tr>\n",
       "<tr>\n",
       "  <th>Time:</th>                 <td>13:25:01</td>     <th>  Log-Likelihood:    </th> <td>-4.4912e+05</td>\n",
       "</tr>\n",
       "<tr>\n",
       "  <th>No. Observations:</th>      <td> 30155</td>      <th>  AIC:               </th>  <td>8.982e+05</td> \n",
       "</tr>\n",
       "<tr>\n",
       "  <th>Df Residuals:</th>          <td> 30153</td>      <th>  BIC:               </th>  <td>8.983e+05</td> \n",
       "</tr>\n",
       "<tr>\n",
       "  <th>Df Model:</th>              <td>     1</td>      <th>                     </th>      <td> </td>     \n",
       "</tr>\n",
       "<tr>\n",
       "  <th>Covariance Type:</th>      <td>nonrobust</td>    <th>                     </th>      <td> </td>     \n",
       "</tr>\n",
       "</table>\n",
       "<table class=\"simpletable\">\n",
       "<tr>\n",
       "       <td></td>          <th>coef</th>     <th>std err</th>      <th>t</th>      <th>P>|t|</th>  <th>[0.025</th>    <th>0.975]</th>  \n",
       "</tr>\n",
       "<tr>\n",
       "  <th>const</th>       <td>-7.443e+04</td> <td> 9782.728</td> <td>   -7.609</td> <td> 0.000</td> <td>-9.36e+04</td> <td>-5.53e+04</td>\n",
       "</tr>\n",
       "<tr>\n",
       "  <th>sqft_living</th> <td>  560.0050</td> <td>    4.206</td> <td>  133.160</td> <td> 0.000</td> <td>  551.762</td> <td>  568.248</td>\n",
       "</tr>\n",
       "</table>\n",
       "<table class=\"simpletable\">\n",
       "<tr>\n",
       "  <th>Omnibus:</th>       <td>43429.367</td> <th>  Durbin-Watson:     </th>   <td>   1.862</td>  \n",
       "</tr>\n",
       "<tr>\n",
       "  <th>Prob(Omnibus):</th>  <td> 0.000</td>   <th>  Jarque-Bera (JB):  </th> <td>47159181.471</td>\n",
       "</tr>\n",
       "<tr>\n",
       "  <th>Skew:</th>           <td> 8.188</td>   <th>  Prob(JB):          </th>   <td>    0.00</td>  \n",
       "</tr>\n",
       "<tr>\n",
       "  <th>Kurtosis:</th>       <td>196.042</td>  <th>  Cond. No.          </th>   <td>5.56e+03</td>  \n",
       "</tr>\n",
       "</table><br/><br/>Notes:<br/>[1] Standard Errors assume that the covariance matrix of the errors is correctly specified.<br/>[2] The condition number is large, 5.56e+03. This might indicate that there are<br/>strong multicollinearity or other numerical problems."
      ],
      "text/plain": [
       "<class 'statsmodels.iolib.summary.Summary'>\n",
       "\"\"\"\n",
       "                            OLS Regression Results                            \n",
       "==============================================================================\n",
       "Dep. Variable:                  price   R-squared:                       0.370\n",
       "Model:                            OLS   Adj. R-squared:                  0.370\n",
       "Method:                 Least Squares   F-statistic:                 1.773e+04\n",
       "Date:                Fri, 05 Aug 2022   Prob (F-statistic):               0.00\n",
       "Time:                        13:25:01   Log-Likelihood:            -4.4912e+05\n",
       "No. Observations:               30155   AIC:                         8.982e+05\n",
       "Df Residuals:                   30153   BIC:                         8.983e+05\n",
       "Df Model:                           1                                         \n",
       "Covariance Type:            nonrobust                                         \n",
       "===============================================================================\n",
       "                  coef    std err          t      P>|t|      [0.025      0.975]\n",
       "-------------------------------------------------------------------------------\n",
       "const       -7.443e+04   9782.728     -7.609      0.000   -9.36e+04   -5.53e+04\n",
       "sqft_living   560.0050      4.206    133.160      0.000     551.762     568.248\n",
       "==============================================================================\n",
       "Omnibus:                    43429.367   Durbin-Watson:                   1.862\n",
       "Prob(Omnibus):                  0.000   Jarque-Bera (JB):         47159181.471\n",
       "Skew:                           8.188   Prob(JB):                         0.00\n",
       "Kurtosis:                     196.042   Cond. No.                     5.56e+03\n",
       "==============================================================================\n",
       "\n",
       "Notes:\n",
       "[1] Standard Errors assume that the covariance matrix of the errors is correctly specified.\n",
       "[2] The condition number is large, 5.56e+03. This might indicate that there are\n",
       "strong multicollinearity or other numerical problems.\n",
       "\"\"\""
      ]
     },
     "execution_count": 60,
     "metadata": {},
     "output_type": "execute_result"
    }
   ],
   "source": [
    "simple_model_sumamry = results.summary()\n",
    "simple_model_sumamry"
   ]
  },
  {
   "cell_type": "markdown",
   "metadata": {},
   "source": [
    "Well it seems like for a starting point that price and sqft_living seem to explain 50% the variance. lets see if we cant get that number a little higher? But is it important to see if all the graphs are a normal distribution?"
   ]
  },
  {
   "cell_type": "markdown",
   "metadata": {},
   "source": [
    "# Before we go into multivariate lets look at all the distributions of our columns!"
   ]
  },
  {
   "cell_type": "code",
   "execution_count": 61,
   "metadata": {},
   "outputs": [
    {
     "data": {
      "text/plain": [
       "Index(['id', 'date', 'price', 'bedrooms', 'bathrooms', 'sqft_living',\n",
       "       'sqft_lot', 'floors', 'waterfront', 'greenbelt', 'nuisance', 'view',\n",
       "       'condition', 'grade', 'heat_source', 'sewer_system', 'sqft_above',\n",
       "       'sqft_basement', 'sqft_garage', 'sqft_patio', 'yr_built',\n",
       "       'yr_renovated', 'address', 'lat', 'long'],\n",
       "      dtype='object')"
      ]
     },
     "execution_count": 61,
     "metadata": {},
     "output_type": "execute_result"
    }
   ],
   "source": [
    "almost_done_cleaning.columns"
   ]
  },
  {
   "cell_type": "code",
   "execution_count": 62,
   "metadata": {},
   "outputs": [
    {
     "data": {
      "image/png": "[encoded data removed]",
      "text/plain": [
       "<Figure size 432x288 with 1 Axes>"
      ]
     },
     "metadata": {
      "needs_background": "light"
     },
     "output_type": "display_data"
    }
   ],
   "source": [
    "almost_done_cleaning.hist(column='bedrooms');"
   ]
  },
  {
   "cell_type": "code",
   "execution_count": 63,
   "metadata": {},
   "outputs": [
    {
     "data": {
      "image/png": "[encoded data removed]",
      "text/plain": [
       "<Figure size 432x288 with 1 Axes>"
      ]
     },
     "metadata": {
      "needs_background": "light"
     },
     "output_type": "display_data"
    }
   ],
   "source": [
    "almost_done_cleaning.hist(column='bathrooms');"
   ]
  },
  {
   "cell_type": "code",
   "execution_count": 64,
   "metadata": {},
   "outputs": [
    {
     "data": {
      "image/png": "[encoded data removed]",
      "text/plain": [
       "<Figure size 432x288 with 1 Axes>"
      ]
     },
     "metadata": {
      "needs_background": "light"
     },
     "output_type": "display_data"
    }
   ],
   "source": [
    "almost_done_cleaning.hist(column='sqft_living', bins = 20);"
   ]
  },
  {
   "cell_type": "code",
   "execution_count": 65,
   "metadata": {},
   "outputs": [
    {
     "data": {
      "image/png": "[encoded data removed]",
      "text/plain": [
       "<Figure size 432x288 with 1 Axes>"
      ]
     },
     "metadata": {
      "needs_background": "light"
     },
     "output_type": "display_data"
    }
   ],
   "source": [
    "almost_done_cleaning.hist(column='sqft_living', bins = 20);"
   ]
  },
  {
   "cell_type": "code",
   "execution_count": 66,
   "metadata": {},
   "outputs": [
    {
     "data": {
      "image/png": "[encoded data removed]",
      "text/plain": [
       "<Figure size 432x288 with 1 Axes>"
      ]
     },
     "metadata": {
      "needs_background": "light"
     },
     "output_type": "display_data"
    }
   ],
   "source": [
    "almost_done_cleaning.hist(column='sqft_above', bins = 20);"
   ]
  },
  {
   "cell_type": "code",
   "execution_count": 67,
   "metadata": {},
   "outputs": [
    {
     "data": {
      "image/png": "[encoded data removed]",
      "text/plain": [
       "<Figure size 432x288 with 1 Axes>"
      ]
     },
     "metadata": {
      "needs_background": "light"
     },
     "output_type": "display_data"
    }
   ],
   "source": [
    "almost_done_cleaning.hist(column='price', bins = 30);"
   ]
  },
  {
   "cell_type": "markdown",
   "metadata": {},
   "source": [
    "# Applying logs to see if we can get nromal distros from some of these things"
   ]
  },
  {
   "cell_type": "code",
   "execution_count": 68,
   "metadata": {},
   "outputs": [],
   "source": [
    "almost_done_cleaning['logged_price'] = np.log(almost_done_cleaning['price']) "
   ]
  },
  {
   "cell_type": "code",
   "execution_count": 69,
   "metadata": {},
   "outputs": [
    {
     "data": {
      "text/html": [
       "<div>\n",
       "<style scoped>\n",
       "    .dataframe tbody tr th:only-of-type {\n",
       "        vertical-align: middle;\n",
       "    }\n",
       "\n",
       "    .dataframe tbody tr th {\n",
       "        vertical-align: top;\n",
       "    }\n",
       "\n",
       "    .dataframe thead th {\n",
       "        text-align: right;\n",
       "    }\n",
       "</style>\n",
       "<table border=\"1\" class=\"dataframe\">\n",
       "  <thead>\n",
       "    <tr style=\"text-align: right;\">\n",
       "      <th></th>\n",
       "      <th>id</th>\n",
       "      <th>date</th>\n",
       "      <th>price</th>\n",
       "      <th>bedrooms</th>\n",
       "      <th>bathrooms</th>\n",
       "      <th>sqft_living</th>\n",
       "      <th>sqft_lot</th>\n",
       "      <th>floors</th>\n",
       "      <th>waterfront</th>\n",
       "      <th>greenbelt</th>\n",
       "      <th>...</th>\n",
       "      <th>sqft_above</th>\n",
       "      <th>sqft_basement</th>\n",
       "      <th>sqft_garage</th>\n",
       "      <th>sqft_patio</th>\n",
       "      <th>yr_built</th>\n",
       "      <th>yr_renovated</th>\n",
       "      <th>address</th>\n",
       "      <th>lat</th>\n",
       "      <th>long</th>\n",
       "      <th>logged_price</th>\n",
       "    </tr>\n",
       "  </thead>\n",
       "  <tbody>\n",
       "    <tr>\n",
       "      <th>0</th>\n",
       "      <td>7399300360</td>\n",
       "      <td>2022-05-24</td>\n",
       "      <td>675000</td>\n",
       "      <td>4</td>\n",
       "      <td>1.0</td>\n",
       "      <td>1180</td>\n",
       "      <td>7140</td>\n",
       "      <td>1.0</td>\n",
       "      <td>0</td>\n",
       "      <td>NO</td>\n",
       "      <td>...</td>\n",
       "      <td>1180</td>\n",
       "      <td>0</td>\n",
       "      <td>0</td>\n",
       "      <td>40</td>\n",
       "      <td>1969</td>\n",
       "      <td>0</td>\n",
       "      <td>2102 Southeast 21st Court, Renton, Washington ...</td>\n",
       "      <td>47.461975</td>\n",
       "      <td>-122.19052</td>\n",
       "      <td>13.422468</td>\n",
       "    </tr>\n",
       "    <tr>\n",
       "      <th>1</th>\n",
       "      <td>8910500230</td>\n",
       "      <td>2021-12-13</td>\n",
       "      <td>920000</td>\n",
       "      <td>5</td>\n",
       "      <td>2.5</td>\n",
       "      <td>2770</td>\n",
       "      <td>6703</td>\n",
       "      <td>1.0</td>\n",
       "      <td>0</td>\n",
       "      <td>NO</td>\n",
       "      <td>...</td>\n",
       "      <td>1570</td>\n",
       "      <td>1570</td>\n",
       "      <td>0</td>\n",
       "      <td>240</td>\n",
       "      <td>1950</td>\n",
       "      <td>0</td>\n",
       "      <td>11231 Greenwood Avenue North, Seattle, Washing...</td>\n",
       "      <td>47.711525</td>\n",
       "      <td>-122.35591</td>\n",
       "      <td>13.732129</td>\n",
       "    </tr>\n",
       "    <tr>\n",
       "      <th>2</th>\n",
       "      <td>1180000275</td>\n",
       "      <td>2021-09-29</td>\n",
       "      <td>311000</td>\n",
       "      <td>6</td>\n",
       "      <td>2.0</td>\n",
       "      <td>2880</td>\n",
       "      <td>6156</td>\n",
       "      <td>1.0</td>\n",
       "      <td>0</td>\n",
       "      <td>NO</td>\n",
       "      <td>...</td>\n",
       "      <td>1580</td>\n",
       "      <td>1580</td>\n",
       "      <td>0</td>\n",
       "      <td>0</td>\n",
       "      <td>1956</td>\n",
       "      <td>0</td>\n",
       "      <td>8504 South 113th Street, Seattle, Washington 9...</td>\n",
       "      <td>47.502045</td>\n",
       "      <td>-122.22520</td>\n",
       "      <td>12.647548</td>\n",
       "    </tr>\n",
       "    <tr>\n",
       "      <th>3</th>\n",
       "      <td>1604601802</td>\n",
       "      <td>2021-12-14</td>\n",
       "      <td>775000</td>\n",
       "      <td>3</td>\n",
       "      <td>3.0</td>\n",
       "      <td>2160</td>\n",
       "      <td>1400</td>\n",
       "      <td>2.0</td>\n",
       "      <td>0</td>\n",
       "      <td>NO</td>\n",
       "      <td>...</td>\n",
       "      <td>1090</td>\n",
       "      <td>1070</td>\n",
       "      <td>200</td>\n",
       "      <td>270</td>\n",
       "      <td>2010</td>\n",
       "      <td>0</td>\n",
       "      <td>4079 Letitia Avenue South, Seattle, Washington...</td>\n",
       "      <td>47.566110</td>\n",
       "      <td>-122.29020</td>\n",
       "      <td>13.560618</td>\n",
       "    </tr>\n",
       "    <tr>\n",
       "      <th>4</th>\n",
       "      <td>8562780790</td>\n",
       "      <td>2021-08-24</td>\n",
       "      <td>592500</td>\n",
       "      <td>2</td>\n",
       "      <td>2.0</td>\n",
       "      <td>1120</td>\n",
       "      <td>758</td>\n",
       "      <td>2.0</td>\n",
       "      <td>0</td>\n",
       "      <td>NO</td>\n",
       "      <td>...</td>\n",
       "      <td>1120</td>\n",
       "      <td>550</td>\n",
       "      <td>550</td>\n",
       "      <td>30</td>\n",
       "      <td>2012</td>\n",
       "      <td>0</td>\n",
       "      <td>2193 Northwest Talus Drive, Issaquah, Washingt...</td>\n",
       "      <td>47.532470</td>\n",
       "      <td>-122.07188</td>\n",
       "      <td>13.292106</td>\n",
       "    </tr>\n",
       "  </tbody>\n",
       "</table>\n",
       "<p>5 rows × 26 columns</p>\n",
       "</div>"
      ],
      "text/plain": [
       "           id       date   price  bedrooms  bathrooms  sqft_living  sqft_lot  \\\n",
       "0  7399300360 2022-05-24  675000         4        1.0         1180      7140   \n",
       "1  8910500230 2021-12-13  920000         5        2.5         2770      6703   \n",
       "2  1180000275 2021-09-29  311000         6        2.0         2880      6156   \n",
       "3  1604601802 2021-12-14  775000         3        3.0         2160      1400   \n",
       "4  8562780790 2021-08-24  592500         2        2.0         1120       758   \n",
       "\n",
       "   floors  waterfront greenbelt  ... sqft_above sqft_basement sqft_garage  \\\n",
       "0     1.0           0        NO  ...       1180             0           0   \n",
       "1     1.0           0        NO  ...       1570          1570           0   \n",
       "2     1.0           0        NO  ...       1580          1580           0   \n",
       "3     2.0           0        NO  ...       1090          1070         200   \n",
       "4     2.0           0        NO  ...       1120           550         550   \n",
       "\n",
       "  sqft_patio yr_built yr_renovated  \\\n",
       "0         40     1969            0   \n",
       "1        240     1950            0   \n",
       "2          0     1956            0   \n",
       "3        270     2010            0   \n",
       "4         30     2012            0   \n",
       "\n",
       "                                             address        lat       long  \\\n",
       "0  2102 Southeast 21st Court, Renton, Washington ...  47.461975 -122.19052   \n",
       "1  11231 Greenwood Avenue North, Seattle, Washing...  47.711525 -122.35591   \n",
       "2  8504 South 113th Street, Seattle, Washington 9...  47.502045 -122.22520   \n",
       "3  4079 Letitia Avenue South, Seattle, Washington...  47.566110 -122.29020   \n",
       "4  2193 Northwest Talus Drive, Issaquah, Washingt...  47.532470 -122.07188   \n",
       "\n",
       "   logged_price  \n",
       "0     13.422468  \n",
       "1     13.732129  \n",
       "2     12.647548  \n",
       "3     13.560618  \n",
       "4     13.292106  \n",
       "\n",
       "[5 rows x 26 columns]"
      ]
     },
     "execution_count": 69,
     "metadata": {},
     "output_type": "execute_result"
    }
   ],
   "source": [
    "almost_done_cleaning.head()"
   ]
  },
  {
   "cell_type": "code",
   "execution_count": 70,
   "metadata": {},
   "outputs": [
    {
     "data": {
      "image/png": "[encoded data removed]",
      "text/plain": [
       "<Figure size 432x288 with 1 Axes>"
      ]
     },
     "metadata": {
      "needs_background": "light"
     },
     "output_type": "display_data"
    }
   ],
   "source": [
    "almost_done_cleaning.hist(column='logged_price', bins = 30);"
   ]
  },
  {
   "cell_type": "code",
   "execution_count": 71,
   "metadata": {},
   "outputs": [],
   "source": [
    "almost_done_cleaning['logged_sqft_living'] = np.log(almost_done_cleaning['sqft_living']) "
   ]
  },
  {
   "cell_type": "code",
   "execution_count": 72,
   "metadata": {},
   "outputs": [
    {
     "data": {
      "image/png": "[encoded data removed]",
      "text/plain": [
       "<Figure size 432x288 with 1 Axes>"
      ]
     },
     "metadata": {
      "needs_background": "light"
     },
     "output_type": "display_data"
    }
   ],
   "source": [
    "almost_done_cleaning.hist(column='logged_sqft_living', bins = 30);"
   ]
  },
  {
   "cell_type": "code",
   "execution_count": 73,
   "metadata": {},
   "outputs": [
    {
     "data": {
      "text/plain": [
       "<statsmodels.regression.linear_model.RegressionResultsWrapper at 0x2100ec0ad90>"
      ]
     },
     "execution_count": 73,
     "metadata": {},
     "output_type": "execute_result"
    }
   ],
   "source": [
    "X_logged_sqft_living = almost_done_cleaning[['logged_sqft_living']]\n",
    "y_logged_price = almost_done_cleaning['logged_price']\n",
    "\n",
    "model_logged_price = sm.OLS(endog = y_logged_price, exog = sm.add_constant(X_logged_sqft_living))\n",
    "results_logged_price = model_logged_price.fit()\n",
    "results_logged_price"
   ]
  },
  {
   "cell_type": "code",
   "execution_count": 74,
   "metadata": {},
   "outputs": [
    {
     "data": {
      "text/html": [
       "<table class=\"simpletable\">\n",
       "<caption>OLS Regression Results</caption>\n",
       "<tr>\n",
       "  <th>Dep. Variable:</th>      <td>logged_price</td>   <th>  R-squared:         </th> <td>   0.348</td> \n",
       "</tr>\n",
       "<tr>\n",
       "  <th>Model:</th>                   <td>OLS</td>       <th>  Adj. R-squared:    </th> <td>   0.348</td> \n",
       "</tr>\n",
       "<tr>\n",
       "  <th>Method:</th>             <td>Least Squares</td>  <th>  F-statistic:       </th> <td>1.612e+04</td>\n",
       "</tr>\n",
       "<tr>\n",
       "  <th>Date:</th>             <td>Fri, 05 Aug 2022</td> <th>  Prob (F-statistic):</th>  <td>  0.00</td>  \n",
       "</tr>\n",
       "<tr>\n",
       "  <th>Time:</th>                 <td>13:25:03</td>     <th>  Log-Likelihood:    </th> <td> -20055.</td> \n",
       "</tr>\n",
       "<tr>\n",
       "  <th>No. Observations:</th>      <td> 30155</td>      <th>  AIC:               </th> <td>4.011e+04</td>\n",
       "</tr>\n",
       "<tr>\n",
       "  <th>Df Residuals:</th>          <td> 30153</td>      <th>  BIC:               </th> <td>4.013e+04</td>\n",
       "</tr>\n",
       "<tr>\n",
       "  <th>Df Model:</th>              <td>     1</td>      <th>                     </th>     <td> </td>    \n",
       "</tr>\n",
       "<tr>\n",
       "  <th>Covariance Type:</th>      <td>nonrobust</td>    <th>                     </th>     <td> </td>    \n",
       "</tr>\n",
       "</table>\n",
       "<table class=\"simpletable\">\n",
       "<tr>\n",
       "           <td></td>             <th>coef</th>     <th>std err</th>      <th>t</th>      <th>P>|t|</th>  <th>[0.025</th>    <th>0.975]</th>  \n",
       "</tr>\n",
       "<tr>\n",
       "  <th>const</th>              <td>    7.8799</td> <td>    0.046</td> <td>  170.559</td> <td> 0.000</td> <td>    7.789</td> <td>    7.970</td>\n",
       "</tr>\n",
       "<tr>\n",
       "  <th>logged_sqft_living</th> <td>    0.7746</td> <td>    0.006</td> <td>  126.947</td> <td> 0.000</td> <td>    0.763</td> <td>    0.787</td>\n",
       "</tr>\n",
       "</table>\n",
       "<table class=\"simpletable\">\n",
       "<tr>\n",
       "  <th>Omnibus:</th>       <td>4837.276</td> <th>  Durbin-Watson:     </th> <td>   1.974</td> \n",
       "</tr>\n",
       "<tr>\n",
       "  <th>Prob(Omnibus):</th>  <td> 0.000</td>  <th>  Jarque-Bera (JB):  </th> <td>49853.301</td>\n",
       "</tr>\n",
       "<tr>\n",
       "  <th>Skew:</th>           <td>-0.455</td>  <th>  Prob(JB):          </th> <td>    0.00</td> \n",
       "</tr>\n",
       "<tr>\n",
       "  <th>Kurtosis:</th>       <td> 9.233</td>  <th>  Cond. No.          </th> <td>    131.</td> \n",
       "</tr>\n",
       "</table><br/><br/>Notes:<br/>[1] Standard Errors assume that the covariance matrix of the errors is correctly specified."
      ],
      "text/plain": [
       "<class 'statsmodels.iolib.summary.Summary'>\n",
       "\"\"\"\n",
       "                            OLS Regression Results                            \n",
       "==============================================================================\n",
       "Dep. Variable:           logged_price   R-squared:                       0.348\n",
       "Model:                            OLS   Adj. R-squared:                  0.348\n",
       "Method:                 Least Squares   F-statistic:                 1.612e+04\n",
       "Date:                Fri, 05 Aug 2022   Prob (F-statistic):               0.00\n",
       "Time:                        13:25:03   Log-Likelihood:                -20055.\n",
       "No. Observations:               30155   AIC:                         4.011e+04\n",
       "Df Residuals:                   30153   BIC:                         4.013e+04\n",
       "Df Model:                           1                                         \n",
       "Covariance Type:            nonrobust                                         \n",
       "======================================================================================\n",
       "                         coef    std err          t      P>|t|      [0.025      0.975]\n",
       "--------------------------------------------------------------------------------------\n",
       "const                  7.8799      0.046    170.559      0.000       7.789       7.970\n",
       "logged_sqft_living     0.7746      0.006    126.947      0.000       0.763       0.787\n",
       "==============================================================================\n",
       "Omnibus:                     4837.276   Durbin-Watson:                   1.974\n",
       "Prob(Omnibus):                  0.000   Jarque-Bera (JB):            49853.301\n",
       "Skew:                          -0.455   Prob(JB):                         0.00\n",
       "Kurtosis:                       9.233   Cond. No.                         131.\n",
       "==============================================================================\n",
       "\n",
       "Notes:\n",
       "[1] Standard Errors assume that the covariance matrix of the errors is correctly specified.\n",
       "\"\"\""
      ]
     },
     "execution_count": 74,
     "metadata": {},
     "output_type": "execute_result"
    }
   ],
   "source": [
    "price_logged_summary = results_logged_price.summary()\n",
    "price_logged_summary"
   ]
  },
  {
   "cell_type": "markdown",
   "metadata": {},
   "source": [
    "# Maybe we need to normalize them first? I seem to remember this as a step..?"
   ]
  },
  {
   "cell_type": "code",
   "execution_count": 75,
   "metadata": {},
   "outputs": [],
   "source": [
    "from sklearn import preprocessing"
   ]
  },
  {
   "cell_type": "markdown",
   "metadata": {},
   "source": [
    "well charlie seems to think that isnt the case! he is saying that you only have to apply the log to the target feature so maybe I will try that!"
   ]
  },
  {
   "cell_type": "code",
   "execution_count": 76,
   "metadata": {},
   "outputs": [
    {
     "data": {
      "text/html": [
       "<table class=\"simpletable\">\n",
       "<caption>OLS Regression Results</caption>\n",
       "<tr>\n",
       "  <th>Dep. Variable:</th>      <td>logged_price</td>   <th>  R-squared:         </th> <td>   0.386</td> \n",
       "</tr>\n",
       "<tr>\n",
       "  <th>Model:</th>                   <td>OLS</td>       <th>  Adj. R-squared:    </th> <td>   0.386</td> \n",
       "</tr>\n",
       "<tr>\n",
       "  <th>Method:</th>             <td>Least Squares</td>  <th>  F-statistic:       </th> <td>1.898e+04</td>\n",
       "</tr>\n",
       "<tr>\n",
       "  <th>Date:</th>             <td>Fri, 05 Aug 2022</td> <th>  Prob (F-statistic):</th>  <td>  0.00</td>  \n",
       "</tr>\n",
       "<tr>\n",
       "  <th>Time:</th>                 <td>13:25:03</td>     <th>  Log-Likelihood:    </th> <td> -19148.</td> \n",
       "</tr>\n",
       "<tr>\n",
       "  <th>No. Observations:</th>      <td> 30155</td>      <th>  AIC:               </th> <td>3.830e+04</td>\n",
       "</tr>\n",
       "<tr>\n",
       "  <th>Df Residuals:</th>          <td> 30153</td>      <th>  BIC:               </th> <td>3.832e+04</td>\n",
       "</tr>\n",
       "<tr>\n",
       "  <th>Df Model:</th>              <td>     1</td>      <th>                     </th>     <td> </td>    \n",
       "</tr>\n",
       "<tr>\n",
       "  <th>Covariance Type:</th>      <td>nonrobust</td>    <th>                     </th>     <td> </td>    \n",
       "</tr>\n",
       "</table>\n",
       "<table class=\"simpletable\">\n",
       "<tr>\n",
       "       <td></td>          <th>coef</th>     <th>std err</th>      <th>t</th>      <th>P>|t|</th>  <th>[0.025</th>    <th>0.975]</th>  \n",
       "</tr>\n",
       "<tr>\n",
       "  <th>const</th>       <td>   12.9491</td> <td>    0.006</td> <td> 2062.042</td> <td> 0.000</td> <td>   12.937</td> <td>   12.961</td>\n",
       "</tr>\n",
       "<tr>\n",
       "  <th>sqft_living</th> <td>    0.0004</td> <td>  2.7e-06</td> <td>  137.785</td> <td> 0.000</td> <td>    0.000</td> <td>    0.000</td>\n",
       "</tr>\n",
       "</table>\n",
       "<table class=\"simpletable\">\n",
       "<tr>\n",
       "  <th>Omnibus:</th>       <td>5903.116</td> <th>  Durbin-Watson:     </th> <td>   1.970</td> \n",
       "</tr>\n",
       "<tr>\n",
       "  <th>Prob(Omnibus):</th>  <td> 0.000</td>  <th>  Jarque-Bera (JB):  </th> <td>49981.952</td>\n",
       "</tr>\n",
       "<tr>\n",
       "  <th>Skew:</th>           <td>-0.706</td>  <th>  Prob(JB):          </th> <td>    0.00</td> \n",
       "</tr>\n",
       "<tr>\n",
       "  <th>Kurtosis:</th>       <td> 9.147</td>  <th>  Cond. No.          </th> <td>5.56e+03</td> \n",
       "</tr>\n",
       "</table><br/><br/>Notes:<br/>[1] Standard Errors assume that the covariance matrix of the errors is correctly specified.<br/>[2] The condition number is large, 5.56e+03. This might indicate that there are<br/>strong multicollinearity or other numerical problems."
      ],
      "text/plain": [
       "<class 'statsmodels.iolib.summary.Summary'>\n",
       "\"\"\"\n",
       "                            OLS Regression Results                            \n",
       "==============================================================================\n",
       "Dep. Variable:           logged_price   R-squared:                       0.386\n",
       "Model:                            OLS   Adj. R-squared:                  0.386\n",
       "Method:                 Least Squares   F-statistic:                 1.898e+04\n",
       "Date:                Fri, 05 Aug 2022   Prob (F-statistic):               0.00\n",
       "Time:                        13:25:03   Log-Likelihood:                -19148.\n",
       "No. Observations:               30155   AIC:                         3.830e+04\n",
       "Df Residuals:                   30153   BIC:                         3.832e+04\n",
       "Df Model:                           1                                         \n",
       "Covariance Type:            nonrobust                                         \n",
       "===============================================================================\n",
       "                  coef    std err          t      P>|t|      [0.025      0.975]\n",
       "-------------------------------------------------------------------------------\n",
       "const          12.9491      0.006   2062.042      0.000      12.937      12.961\n",
       "sqft_living     0.0004    2.7e-06    137.785      0.000       0.000       0.000\n",
       "==============================================================================\n",
       "Omnibus:                     5903.116   Durbin-Watson:                   1.970\n",
       "Prob(Omnibus):                  0.000   Jarque-Bera (JB):            49981.952\n",
       "Skew:                          -0.706   Prob(JB):                         0.00\n",
       "Kurtosis:                       9.147   Cond. No.                     5.56e+03\n",
       "==============================================================================\n",
       "\n",
       "Notes:\n",
       "[1] Standard Errors assume that the covariance matrix of the errors is correctly specified.\n",
       "[2] The condition number is large, 5.56e+03. This might indicate that there are\n",
       "strong multicollinearity or other numerical problems.\n",
       "\"\"\""
      ]
     },
     "execution_count": 76,
     "metadata": {},
     "output_type": "execute_result"
    }
   ],
   "source": [
    "X = almost_done_cleaning[['sqft_living']]\n",
    "y_logged_price = almost_done_cleaning['logged_price']\n",
    "\n",
    "charlie_model_logged_price = sm.OLS(endog = y_logged_price, exog = sm.add_constant(X)).fit()\n",
    "charlie_model_logged_price.summary()"
   ]
  },
  {
   "cell_type": "markdown",
   "metadata": {},
   "source": [
    "Hmm well it did seem to bring it back up but it didnt do as well as the original non-logged price so idk.. going to have to ask about that for sure."
   ]
  },
  {
   "cell_type": "markdown",
   "metadata": {},
   "source": [
    "# Hmm.. maybe I have messed something up.. lets try again following hte directions and not from memory and maybe that will help."
   ]
  },
  {
   "cell_type": "code",
   "execution_count": 77,
   "metadata": {},
   "outputs": [],
   "source": [
    "X = almost_done_cleaning['sqft_living']\n",
    "y = almost_done_cleaning['price']"
   ]
  },
  {
   "cell_type": "code",
   "execution_count": 78,
   "metadata": {},
   "outputs": [
    {
     "data": {
      "image/png": "[encoded data removed]",
      "text/plain": [
       "<Figure size 432x288 with 1 Axes>"
      ]
     },
     "metadata": {
      "needs_background": "light"
     },
     "output_type": "display_data"
    }
   ],
   "source": [
    "y.hist(bins = 20);"
   ]
  },
  {
   "cell_type": "code",
   "execution_count": 79,
   "metadata": {},
   "outputs": [
    {
     "data": {
      "image/png": "[encoded data removed]",
      "text/plain": [
       "<Figure size 432x288 with 1 Axes>"
      ]
     },
     "metadata": {
      "needs_background": "light"
     },
     "output_type": "display_data"
    }
   ],
   "source": [
    "y_scld = np.log(y)\n",
    "y_scld.hist(bins = 30);"
   ]
  },
  {
   "cell_type": "code",
   "execution_count": 80,
   "metadata": {},
   "outputs": [
    {
     "data": {
      "text/plain": [
       "0        13.422468\n",
       "1        13.732129\n",
       "2        12.647548\n",
       "3        13.560618\n",
       "4        13.292106\n",
       "           ...    \n",
       "30150    14.256986\n",
       "30151    14.087825\n",
       "30152    13.592367\n",
       "30153    13.560618\n",
       "30154    13.122363\n",
       "Name: price, Length: 30155, dtype: float64"
      ]
     },
     "execution_count": 80,
     "metadata": {},
     "output_type": "execute_result"
    }
   ],
   "source": [
    "y_scld"
   ]
  },
  {
   "cell_type": "code",
   "execution_count": 81,
   "metadata": {},
   "outputs": [
    {
     "data": {
      "text/plain": [
       "0        13.422468\n",
       "1        13.732129\n",
       "2        12.647548\n",
       "3        13.560618\n",
       "4        13.292106\n",
       "           ...    \n",
       "30150    14.256986\n",
       "30151    14.087825\n",
       "30152    13.592367\n",
       "30153    13.560618\n",
       "30154    13.122363\n",
       "Name: logged_price, Length: 30155, dtype: float64"
      ]
     },
     "execution_count": 81,
     "metadata": {},
     "output_type": "execute_result"
    }
   ],
   "source": [
    "almost_done_cleaning['logged_price']"
   ]
  },
  {
   "cell_type": "markdown",
   "metadata": {},
   "source": [
    "hmmm okay, it looks the same so far.."
   ]
  },
  {
   "cell_type": "code",
   "execution_count": 82,
   "metadata": {},
   "outputs": [
    {
     "data": {
      "text/html": [
       "<table class=\"simpletable\">\n",
       "<caption>OLS Regression Results</caption>\n",
       "<tr>\n",
       "  <th>Dep. Variable:</th>          <td>price</td>      <th>  R-squared (uncentered):</th>      <td>   0.843</td> \n",
       "</tr>\n",
       "<tr>\n",
       "  <th>Model:</th>                   <td>OLS</td>       <th>  Adj. R-squared (uncentered):</th> <td>   0.843</td> \n",
       "</tr>\n",
       "<tr>\n",
       "  <th>Method:</th>             <td>Least Squares</td>  <th>  F-statistic:       </th>          <td>1.623e+05</td>\n",
       "</tr>\n",
       "<tr>\n",
       "  <th>Date:</th>             <td>Fri, 05 Aug 2022</td> <th>  Prob (F-statistic):</th>           <td>  0.00</td>  \n",
       "</tr>\n",
       "<tr>\n",
       "  <th>Time:</th>                 <td>13:25:04</td>     <th>  Log-Likelihood:    </th>          <td> -93871.</td> \n",
       "</tr>\n",
       "<tr>\n",
       "  <th>No. Observations:</th>      <td> 30155</td>      <th>  AIC:               </th>          <td>1.877e+05</td>\n",
       "</tr>\n",
       "<tr>\n",
       "  <th>Df Residuals:</th>          <td> 30154</td>      <th>  BIC:               </th>          <td>1.878e+05</td>\n",
       "</tr>\n",
       "<tr>\n",
       "  <th>Df Model:</th>              <td>     1</td>      <th>                     </th>              <td> </td>    \n",
       "</tr>\n",
       "<tr>\n",
       "  <th>Covariance Type:</th>      <td>nonrobust</td>    <th>                     </th>              <td> </td>    \n",
       "</tr>\n",
       "</table>\n",
       "<table class=\"simpletable\">\n",
       "<tr>\n",
       "       <td></td>          <th>coef</th>     <th>std err</th>      <th>t</th>      <th>P>|t|</th>  <th>[0.025</th>    <th>0.975]</th>  \n",
       "</tr>\n",
       "<tr>\n",
       "  <th>sqft_living</th> <td>    0.0054</td> <td> 1.35e-05</td> <td>  402.886</td> <td> 0.000</td> <td>    0.005</td> <td>    0.005</td>\n",
       "</tr>\n",
       "</table>\n",
       "<table class=\"simpletable\">\n",
       "<tr>\n",
       "  <th>Omnibus:</th>       <td>11302.224</td> <th>  Durbin-Watson:     </th> <td>   1.641</td> \n",
       "</tr>\n",
       "<tr>\n",
       "  <th>Prob(Omnibus):</th>  <td> 0.000</td>   <th>  Jarque-Bera (JB):  </th> <td>80173.067</td>\n",
       "</tr>\n",
       "<tr>\n",
       "  <th>Skew:</th>           <td>-1.631</td>   <th>  Prob(JB):          </th> <td>    0.00</td> \n",
       "</tr>\n",
       "<tr>\n",
       "  <th>Kurtosis:</th>       <td>10.292</td>   <th>  Cond. No.          </th> <td>    1.00</td> \n",
       "</tr>\n",
       "</table><br/><br/>Notes:<br/>[1] R² is computed without centering (uncentered) since the model does not contain a constant.<br/>[2] Standard Errors assume that the covariance matrix of the errors is correctly specified."
      ],
      "text/plain": [
       "<class 'statsmodels.iolib.summary.Summary'>\n",
       "\"\"\"\n",
       "                                 OLS Regression Results                                \n",
       "=======================================================================================\n",
       "Dep. Variable:                  price   R-squared (uncentered):                   0.843\n",
       "Model:                            OLS   Adj. R-squared (uncentered):              0.843\n",
       "Method:                 Least Squares   F-statistic:                          1.623e+05\n",
       "Date:                Fri, 05 Aug 2022   Prob (F-statistic):                        0.00\n",
       "Time:                        13:25:04   Log-Likelihood:                         -93871.\n",
       "No. Observations:               30155   AIC:                                  1.877e+05\n",
       "Df Residuals:                   30154   BIC:                                  1.878e+05\n",
       "Df Model:                           1                                                  \n",
       "Covariance Type:            nonrobust                                                  \n",
       "===============================================================================\n",
       "                  coef    std err          t      P>|t|      [0.025      0.975]\n",
       "-------------------------------------------------------------------------------\n",
       "sqft_living     0.0054   1.35e-05    402.886      0.000       0.005       0.005\n",
       "==============================================================================\n",
       "Omnibus:                    11302.224   Durbin-Watson:                   1.641\n",
       "Prob(Omnibus):                  0.000   Jarque-Bera (JB):            80173.067\n",
       "Skew:                          -1.631   Prob(JB):                         0.00\n",
       "Kurtosis:                      10.292   Cond. No.                         1.00\n",
       "==============================================================================\n",
       "\n",
       "Notes:\n",
       "[1] R² is computed without centering (uncentered) since the model does not contain a constant.\n",
       "[2] Standard Errors assume that the covariance matrix of the errors is correctly specified.\n",
       "\"\"\""
      ]
     },
     "execution_count": 82,
     "metadata": {},
     "output_type": "execute_result"
    }
   ],
   "source": [
    "model_price_sqft_living = sm.OLS(y_scld, X).fit()\n",
    "model_price_sqft_living.summary()"
   ]
  },
  {
   "cell_type": "markdown",
   "metadata": {},
   "source": [
    "hmmmm... well thats a pretty good improvement?! I wonder what I have done wrong in imputting my values?"
   ]
  },
  {
   "cell_type": "code",
   "execution_count": 83,
   "metadata": {},
   "outputs": [
    {
     "data": {
      "text/html": [
       "<table class=\"simpletable\">\n",
       "<caption>OLS Regression Results</caption>\n",
       "<tr>\n",
       "  <th>Dep. Variable:</th>      <td>logged_price</td>   <th>  R-squared (uncentered):</th>      <td>   0.843</td> \n",
       "</tr>\n",
       "<tr>\n",
       "  <th>Model:</th>                   <td>OLS</td>       <th>  Adj. R-squared (uncentered):</th> <td>   0.843</td> \n",
       "</tr>\n",
       "<tr>\n",
       "  <th>Method:</th>             <td>Least Squares</td>  <th>  F-statistic:       </th>          <td>1.623e+05</td>\n",
       "</tr>\n",
       "<tr>\n",
       "  <th>Date:</th>             <td>Fri, 05 Aug 2022</td> <th>  Prob (F-statistic):</th>           <td>  0.00</td>  \n",
       "</tr>\n",
       "<tr>\n",
       "  <th>Time:</th>                 <td>13:25:04</td>     <th>  Log-Likelihood:    </th>          <td> -93871.</td> \n",
       "</tr>\n",
       "<tr>\n",
       "  <th>No. Observations:</th>      <td> 30155</td>      <th>  AIC:               </th>          <td>1.877e+05</td>\n",
       "</tr>\n",
       "<tr>\n",
       "  <th>Df Residuals:</th>          <td> 30154</td>      <th>  BIC:               </th>          <td>1.878e+05</td>\n",
       "</tr>\n",
       "<tr>\n",
       "  <th>Df Model:</th>              <td>     1</td>      <th>                     </th>              <td> </td>    \n",
       "</tr>\n",
       "<tr>\n",
       "  <th>Covariance Type:</th>      <td>nonrobust</td>    <th>                     </th>              <td> </td>    \n",
       "</tr>\n",
       "</table>\n",
       "<table class=\"simpletable\">\n",
       "<tr>\n",
       "       <td></td>          <th>coef</th>     <th>std err</th>      <th>t</th>      <th>P>|t|</th>  <th>[0.025</th>    <th>0.975]</th>  \n",
       "</tr>\n",
       "<tr>\n",
       "  <th>sqft_living</th> <td>    0.0054</td> <td> 1.35e-05</td> <td>  402.886</td> <td> 0.000</td> <td>    0.005</td> <td>    0.005</td>\n",
       "</tr>\n",
       "</table>\n",
       "<table class=\"simpletable\">\n",
       "<tr>\n",
       "  <th>Omnibus:</th>       <td>11302.224</td> <th>  Durbin-Watson:     </th> <td>   1.641</td> \n",
       "</tr>\n",
       "<tr>\n",
       "  <th>Prob(Omnibus):</th>  <td> 0.000</td>   <th>  Jarque-Bera (JB):  </th> <td>80173.067</td>\n",
       "</tr>\n",
       "<tr>\n",
       "  <th>Skew:</th>           <td>-1.631</td>   <th>  Prob(JB):          </th> <td>    0.00</td> \n",
       "</tr>\n",
       "<tr>\n",
       "  <th>Kurtosis:</th>       <td>10.292</td>   <th>  Cond. No.          </th> <td>    1.00</td> \n",
       "</tr>\n",
       "</table><br/><br/>Notes:<br/>[1] R² is computed without centering (uncentered) since the model does not contain a constant.<br/>[2] Standard Errors assume that the covariance matrix of the errors is correctly specified."
      ],
      "text/plain": [
       "<class 'statsmodels.iolib.summary.Summary'>\n",
       "\"\"\"\n",
       "                                 OLS Regression Results                                \n",
       "=======================================================================================\n",
       "Dep. Variable:           logged_price   R-squared (uncentered):                   0.843\n",
       "Model:                            OLS   Adj. R-squared (uncentered):              0.843\n",
       "Method:                 Least Squares   F-statistic:                          1.623e+05\n",
       "Date:                Fri, 05 Aug 2022   Prob (F-statistic):                        0.00\n",
       "Time:                        13:25:04   Log-Likelihood:                         -93871.\n",
       "No. Observations:               30155   AIC:                                  1.877e+05\n",
       "Df Residuals:                   30154   BIC:                                  1.878e+05\n",
       "Df Model:                           1                                                  \n",
       "Covariance Type:            nonrobust                                                  \n",
       "===============================================================================\n",
       "                  coef    std err          t      P>|t|      [0.025      0.975]\n",
       "-------------------------------------------------------------------------------\n",
       "sqft_living     0.0054   1.35e-05    402.886      0.000       0.005       0.005\n",
       "==============================================================================\n",
       "Omnibus:                    11302.224   Durbin-Watson:                   1.641\n",
       "Prob(Omnibus):                  0.000   Jarque-Bera (JB):            80173.067\n",
       "Skew:                          -1.631   Prob(JB):                         0.00\n",
       "Kurtosis:                      10.292   Cond. No.                         1.00\n",
       "==============================================================================\n",
       "\n",
       "Notes:\n",
       "[1] R² is computed without centering (uncentered) since the model does not contain a constant.\n",
       "[2] Standard Errors assume that the covariance matrix of the errors is correctly specified.\n",
       "\"\"\""
      ]
     },
     "execution_count": 83,
     "metadata": {},
     "output_type": "execute_result"
    }
   ],
   "source": [
    "X = almost_done_cleaning[['sqft_living']]\n",
    "y_logged_price = almost_done_cleaning['logged_price']\n",
    "\n",
    "charlie_model_logged_price = sm.OLS(endog = y_logged_price, exog = X).fit()\n",
    "charlie_model_logged_price.summary()"
   ]
  },
  {
   "cell_type": "markdown",
   "metadata": {},
   "source": [
    "AHHHHH WELL IT SEEMS THAT THE ADDITION OF THE CONSTANT IS WHAT WAS DIFFERENT BETWEEN THE TWO! But after a long converstation with Praveen it seems that Gregs notebook that does not add the constant is actually a mistake and you should add the constant! Another thing to note is that we will be using the sqrt of price to normalize NOT the log because itgives us a better r^2."
   ]
  },
  {
   "cell_type": "code",
   "execution_count": 84,
   "metadata": {},
   "outputs": [
    {
     "data": {
      "text/plain": [
       "Index(['id', 'date', 'price', 'bedrooms', 'bathrooms', 'sqft_living',\n",
       "       'sqft_lot', 'floors', 'waterfront', 'greenbelt', 'nuisance', 'view',\n",
       "       'condition', 'grade', 'heat_source', 'sewer_system', 'sqft_above',\n",
       "       'sqft_basement', 'sqft_garage', 'sqft_patio', 'yr_built',\n",
       "       'yr_renovated', 'address', 'lat', 'long', 'logged_price',\n",
       "       'logged_sqft_living'],\n",
       "      dtype='object')"
      ]
     },
     "execution_count": 84,
     "metadata": {},
     "output_type": "execute_result"
    }
   ],
   "source": [
    "almost_done_cleaning.columns"
   ]
  },
  {
   "cell_type": "code",
   "execution_count": 85,
   "metadata": {},
   "outputs": [],
   "source": [
    "cleaned_kchd = almost_done_cleaning.drop(['logged_sqft_living'], axis = 1)"
   ]
  },
  {
   "cell_type": "code",
   "execution_count": 86,
   "metadata": {},
   "outputs": [],
   "source": [
    "cleaned_kchd.to_csv('./data/' + 'cleaned_kchd.csv')"
   ]
  },
  {
   "cell_type": "code",
   "execution_count": null,
   "metadata": {},
   "outputs": [],
   "source": []
  }
 ],
 "metadata": {
  "kernelspec": {
   "display_name": "Python (learn-env)",
   "language": "python",
   "name": "learn-env"
  },
  "language_info": {
   "codemirror_mode": {
    "name": "ipython",
    "version": 3
   },
   "file_extension": ".py",
   "mimetype": "text/x-python",
   "name": "python",
   "nbconvert_exporter": "python",
   "pygments_lexer": "ipython3",
   "version": "3.8.5"
  }
 },
 "nbformat": 4,
 "nbformat_minor": 4
}
